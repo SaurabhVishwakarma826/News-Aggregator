{
 "cells": [
  {
   "cell_type": "markdown",
   "id": "17c4aee3",
   "metadata": {},
   "source": [
    "# ML model trainning"
   ]
  },
  {
   "cell_type": "markdown",
   "id": "f6728273",
   "metadata": {},
   "source": [
    "import all library "
   ]
  },
  {
   "cell_type": "code",
   "execution_count": 1,
   "id": "bb482d9e",
   "metadata": {},
   "outputs": [],
   "source": [
    "import pandas as pd\n",
    "import sklearn\n",
    "import itertools\n",
    "import numpy as np\n",
    "import seaborn as sb\n",
    "import re\n",
    "import nltk\n",
    "import pickle\n",
    "from sklearn.model_selection import train_test_split\n",
    "from sklearn.feature_extraction.text import TfidfVectorizer\n",
    "from sklearn import metrics\n",
    "from sklearn.metrics import accuracy_score, confusion_matrix\n",
    "from matplotlib import pyplot as plt\n",
    "from sklearn.linear_model import PassiveAggressiveClassifier\n",
    "from nltk.stem import WordNetLemmatizer\n",
    "from nltk.corpus import stopwords"
   ]
  },
  {
   "cell_type": "markdown",
   "id": "89a2180e",
   "metadata": {},
   "source": [
    "Read the datasets"
   ]
  },
  {
   "cell_type": "code",
   "execution_count": 2,
   "id": "fead4d24",
   "metadata": {},
   "outputs": [
    {
     "data": {
      "text/html": [
       "<div>\n",
       "<style scoped>\n",
       "    .dataframe tbody tr th:only-of-type {\n",
       "        vertical-align: middle;\n",
       "    }\n",
       "\n",
       "    .dataframe tbody tr th {\n",
       "        vertical-align: top;\n",
       "    }\n",
       "\n",
       "    .dataframe thead th {\n",
       "        text-align: right;\n",
       "    }\n",
       "</style>\n",
       "<table border=\"1\" class=\"dataframe\">\n",
       "  <thead>\n",
       "    <tr style=\"text-align: right;\">\n",
       "      <th></th>\n",
       "      <th>Unnamed: 0</th>\n",
       "      <th>title</th>\n",
       "      <th>text</th>\n",
       "      <th>label</th>\n",
       "    </tr>\n",
       "  </thead>\n",
       "  <tbody>\n",
       "    <tr>\n",
       "      <th>0</th>\n",
       "      <td>8476</td>\n",
       "      <td>You Can Smell Hillary’s Fear</td>\n",
       "      <td>Daniel Greenfield, a Shillman Journalism Fello...</td>\n",
       "      <td>FAKE</td>\n",
       "    </tr>\n",
       "    <tr>\n",
       "      <th>1</th>\n",
       "      <td>10294</td>\n",
       "      <td>Watch The Exact Moment Paul Ryan Committed Pol...</td>\n",
       "      <td>Google Pinterest Digg Linkedin Reddit Stumbleu...</td>\n",
       "      <td>FAKE</td>\n",
       "    </tr>\n",
       "    <tr>\n",
       "      <th>2</th>\n",
       "      <td>3608</td>\n",
       "      <td>Kerry to go to Paris in gesture of sympathy</td>\n",
       "      <td>U.S. Secretary of State John F. Kerry said Mon...</td>\n",
       "      <td>REAL</td>\n",
       "    </tr>\n",
       "    <tr>\n",
       "      <th>3</th>\n",
       "      <td>10142</td>\n",
       "      <td>Bernie supporters on Twitter erupt in anger ag...</td>\n",
       "      <td>— Kaydee King (@KaydeeKing) November 9, 2016 T...</td>\n",
       "      <td>FAKE</td>\n",
       "    </tr>\n",
       "    <tr>\n",
       "      <th>4</th>\n",
       "      <td>875</td>\n",
       "      <td>The Battle of New York: Why This Primary Matters</td>\n",
       "      <td>It's primary day in New York and front-runners...</td>\n",
       "      <td>REAL</td>\n",
       "    </tr>\n",
       "    <tr>\n",
       "      <th>...</th>\n",
       "      <td>...</td>\n",
       "      <td>...</td>\n",
       "      <td>...</td>\n",
       "      <td>...</td>\n",
       "    </tr>\n",
       "    <tr>\n",
       "      <th>6330</th>\n",
       "      <td>4490</td>\n",
       "      <td>State Department says it can't find emails fro...</td>\n",
       "      <td>The State Department told the Republican Natio...</td>\n",
       "      <td>REAL</td>\n",
       "    </tr>\n",
       "    <tr>\n",
       "      <th>6331</th>\n",
       "      <td>8062</td>\n",
       "      <td>The ‘P’ in PBS Should Stand for ‘Plutocratic’ ...</td>\n",
       "      <td>The ‘P’ in PBS Should Stand for ‘Plutocratic’ ...</td>\n",
       "      <td>FAKE</td>\n",
       "    </tr>\n",
       "    <tr>\n",
       "      <th>6332</th>\n",
       "      <td>8622</td>\n",
       "      <td>Anti-Trump Protesters Are Tools of the Oligarc...</td>\n",
       "      <td>Anti-Trump Protesters Are Tools of the Oligar...</td>\n",
       "      <td>FAKE</td>\n",
       "    </tr>\n",
       "    <tr>\n",
       "      <th>6333</th>\n",
       "      <td>4021</td>\n",
       "      <td>In Ethiopia, Obama seeks progress on peace, se...</td>\n",
       "      <td>ADDIS ABABA, Ethiopia —President Obama convene...</td>\n",
       "      <td>REAL</td>\n",
       "    </tr>\n",
       "    <tr>\n",
       "      <th>6334</th>\n",
       "      <td>4330</td>\n",
       "      <td>Jeb Bush Is Suddenly Attacking Trump. Here's W...</td>\n",
       "      <td>Jeb Bush Is Suddenly Attacking Trump. Here's W...</td>\n",
       "      <td>REAL</td>\n",
       "    </tr>\n",
       "  </tbody>\n",
       "</table>\n",
       "<p>6335 rows × 4 columns</p>\n",
       "</div>"
      ],
      "text/plain": [
       "      Unnamed: 0                                              title  \\\n",
       "0           8476                       You Can Smell Hillary’s Fear   \n",
       "1          10294  Watch The Exact Moment Paul Ryan Committed Pol...   \n",
       "2           3608        Kerry to go to Paris in gesture of sympathy   \n",
       "3          10142  Bernie supporters on Twitter erupt in anger ag...   \n",
       "4            875   The Battle of New York: Why This Primary Matters   \n",
       "...          ...                                                ...   \n",
       "6330        4490  State Department says it can't find emails fro...   \n",
       "6331        8062  The ‘P’ in PBS Should Stand for ‘Plutocratic’ ...   \n",
       "6332        8622  Anti-Trump Protesters Are Tools of the Oligarc...   \n",
       "6333        4021  In Ethiopia, Obama seeks progress on peace, se...   \n",
       "6334        4330  Jeb Bush Is Suddenly Attacking Trump. Here's W...   \n",
       "\n",
       "                                                   text label  \n",
       "0     Daniel Greenfield, a Shillman Journalism Fello...  FAKE  \n",
       "1     Google Pinterest Digg Linkedin Reddit Stumbleu...  FAKE  \n",
       "2     U.S. Secretary of State John F. Kerry said Mon...  REAL  \n",
       "3     — Kaydee King (@KaydeeKing) November 9, 2016 T...  FAKE  \n",
       "4     It's primary day in New York and front-runners...  REAL  \n",
       "...                                                 ...   ...  \n",
       "6330  The State Department told the Republican Natio...  REAL  \n",
       "6331  The ‘P’ in PBS Should Stand for ‘Plutocratic’ ...  FAKE  \n",
       "6332   Anti-Trump Protesters Are Tools of the Oligar...  FAKE  \n",
       "6333  ADDIS ABABA, Ethiopia —President Obama convene...  REAL  \n",
       "6334  Jeb Bush Is Suddenly Attacking Trump. Here's W...  REAL  \n",
       "\n",
       "[6335 rows x 4 columns]"
      ]
     },
     "execution_count": 2,
     "metadata": {},
     "output_type": "execute_result"
    }
   ],
   "source": [
    "df = pd.read_csv('news.csv')\n",
    "df"
   ]
  },
  {
   "cell_type": "markdown",
   "id": "05006696",
   "metadata": {},
   "source": [
    "we are using here only one feature from datasets"
   ]
  },
  {
   "cell_type": "code",
   "execution_count": 3,
   "id": "922e303d",
   "metadata": {},
   "outputs": [],
   "source": [
    "labels = df.label"
   ]
  },
  {
   "cell_type": "code",
   "execution_count": 4,
   "id": "ece4997e",
   "metadata": {},
   "outputs": [],
   "source": [
    "labels = labels.map({'FAKE':0, 'REAL':1})"
   ]
  },
  {
   "cell_type": "code",
   "execution_count": 5,
   "id": "eb54835b",
   "metadata": {},
   "outputs": [
    {
     "data": {
      "text/plain": [
       "0       0\n",
       "1       0\n",
       "2       1\n",
       "3       0\n",
       "4       1\n",
       "       ..\n",
       "6330    1\n",
       "6331    0\n",
       "6332    0\n",
       "6333    1\n",
       "6334    1\n",
       "Name: label, Length: 6335, dtype: int64"
      ]
     },
     "execution_count": 5,
     "metadata": {},
     "output_type": "execute_result"
    }
   ],
   "source": [
    "labels"
   ]
  },
  {
   "cell_type": "markdown",
   "id": "1b83ae5b",
   "metadata": {},
   "source": [
    "Mapping the Fake and Real label as 0 and 1 because of binary classification"
   ]
  },
  {
   "cell_type": "code",
   "execution_count": 6,
   "id": "179cb5ff",
   "metadata": {},
   "outputs": [],
   "source": [
    "lemmatizer = WordNetLemmatizer()\n",
    "stpwrds = list(stopwords.words('english'))"
   ]
  },
  {
   "cell_type": "code",
   "execution_count": 7,
   "id": "69312130",
   "metadata": {},
   "outputs": [
    {
     "name": "stderr",
     "output_type": "stream",
     "text": [
      "C:\\Users\\vishw\\AppData\\Local\\Temp/ipykernel_9168/2348363969.py:11: SettingWithCopyWarning: \n",
      "A value is trying to be set on a copy of a slice from a DataFrame\n",
      "\n",
      "See the caveats in the documentation: https://pandas.pydata.org/pandas-docs/stable/user_guide/indexing.html#returning-a-view-versus-a-copy\n",
      "  df['text'][i] = review\n"
     ]
    }
   ],
   "source": [
    "for i in range(len(df)):\n",
    "    corpus = []\n",
    "    review = df['text'][i]\n",
    "    review = re.sub(r'[^a-zA-Z\\s]', '', review)\n",
    "    review = review.lower()\n",
    "    review = nltk.word_tokenize(review)\n",
    "    for j in review:\n",
    "        if j not in stpwrds:\n",
    "            corpus.append(lemmatizer.lemmatize(j))\n",
    "    review = ' '.join(corpus)\n",
    "    df['text'][i] = review"
   ]
  },
  {
   "cell_type": "code",
   "execution_count": 8,
   "id": "300cf46e",
   "metadata": {},
   "outputs": [],
   "source": [
    "tfidf_v = TfidfVectorizer(max_features=5000, ngram_range=(1,3))\n",
    "X = tfidf_v.fit_transform(df['text'])"
   ]
  },
  {
   "cell_type": "code",
   "execution_count": 9,
   "id": "20499c22",
   "metadata": {},
   "outputs": [],
   "source": [
    "X_train, X_test, Y_train, Y_test = train_test_split(X, labels, test_size=0.3, random_state=1)"
   ]
  },
  {
   "cell_type": "code",
   "execution_count": 10,
   "id": "f51af9f8",
   "metadata": {},
   "outputs": [
    {
     "data": {
      "text/plain": [
       "(4434, 5000)"
      ]
     },
     "execution_count": 10,
     "metadata": {},
     "output_type": "execute_result"
    }
   ],
   "source": [
    "X_train.shape"
   ]
  },
  {
   "cell_type": "code",
   "execution_count": 12,
   "id": "0b4a3027",
   "metadata": {},
   "outputs": [
    {
     "data": {
      "text/plain": [
       "(1901, 5000)"
      ]
     },
     "execution_count": 12,
     "metadata": {},
     "output_type": "execute_result"
    }
   ],
   "source": [
    "X_test.shape"
   ]
  },
  {
   "cell_type": "code",
   "execution_count": 13,
   "id": "587d780a",
   "metadata": {},
   "outputs": [],
   "source": [
    "def plot_confusion_matrix(cm, classes,\n",
    "                          normalize=False,\n",
    "                          title='Confusion matrix',\n",
    "                          cmap=plt.cm.Blues):\n",
    "    \n",
    "    plt.imshow(cm, interpolation='nearest', cmap=cmap)\n",
    "    plt.title(title)\n",
    "    plt.colorbar()\n",
    "    tick_marks = np.arange(len(classes))\n",
    "    plt.xticks(tick_marks, classes, rotation=45)\n",
    "    plt.yticks(tick_marks, classes)\n",
    "\n",
    "    if normalize:\n",
    "        cm = cm.astype('float') / cm.sum(axis=1)[:, np.newaxis]\n",
    "        print(\"Normalized confusion matrix\")\n",
    "    else:\n",
    "        print('Confusion matrix, without normalization')\n",
    "\n",
    "    thresh = cm.max() / 2.\n",
    "    for i, j in itertools.product(range(cm.shape[0]), range(cm.shape[1])):\n",
    "        plt.text(j, i, cm[i, j],\n",
    "                 horizontalalignment=\"center\",\n",
    "                 color=\"white\" if cm[i, j] > thresh else \"black\")\n",
    "\n",
    "    plt.tight_layout()\n",
    "    plt.ylabel('True label')\n",
    "    plt.xlabel('Predicted label')"
   ]
  },
  {
   "cell_type": "code",
   "execution_count": 14,
   "id": "c51603e1",
   "metadata": {
    "scrolled": true
   },
   "outputs": [
    {
     "data": {
      "text/plain": [
       "PassiveAggressiveClassifier()"
      ]
     },
     "execution_count": 14,
     "metadata": {},
     "output_type": "execute_result"
    }
   ],
   "source": [
    "classifier = PassiveAggressiveClassifier()\n",
    "classifier.fit(X_train,Y_train)"
   ]
  },
  {
   "cell_type": "code",
   "execution_count": 15,
   "id": "ddc665fa",
   "metadata": {},
   "outputs": [
    {
     "data": {
      "text/plain": [
       "array([1, 1, 0, ..., 1, 0, 1], dtype=int64)"
      ]
     },
     "execution_count": 15,
     "metadata": {},
     "output_type": "execute_result"
    }
   ],
   "source": [
    "classifier.predict(X_test)"
   ]
  },
  {
   "cell_type": "code",
   "execution_count": 16,
   "id": "ef00f1d6",
   "metadata": {},
   "outputs": [
    {
     "data": {
      "text/plain": [
       "0"
      ]
     },
     "execution_count": 16,
     "metadata": {},
     "output_type": "execute_result"
    }
   ],
   "source": [
    "Y_test.iloc[1]"
   ]
  },
  {
   "cell_type": "code",
   "execution_count": null,
   "id": "22fcb4a3",
   "metadata": {},
   "outputs": [],
   "source": []
  },
  {
   "cell_type": "code",
   "execution_count": 17,
   "id": "7188c102",
   "metadata": {},
   "outputs": [
    {
     "name": "stdout",
     "output_type": "stream",
     "text": [
      "accuracy:   0.918\n",
      "Confusion matrix, without normalization\n"
     ]
    },
    {
     "data": {
      "image/png": "[encoded data removed]",
      "text/plain": [
       "<Figure size 432x288 with 2 Axes>"
      ]
     },
     "metadata": {
      "needs_background": "light"
     },
     "output_type": "display_data"
    }
   ],
   "source": [
    "pred = classifier.predict(X_test)\n",
    "score = metrics.accuracy_score(Y_test, pred)\n",
    "print(\"accuracy:   %0.3f\" % score)\n",
    "cm = metrics.confusion_matrix(Y_test, pred)\n",
    "plot_confusion_matrix(cm, classes=['FAKE', 'REAL'])"
   ]
  },
  {
   "cell_type": "code",
   "execution_count": 18,
   "id": "68dde1f6",
   "metadata": {},
   "outputs": [],
   "source": [
    "pickle.dump(classifier,open('./model.pkl', 'wb'))\n",
    "pickle.dump(tfidf_v, open('./tfidf.pkl','wb'))"
   ]
  },
  {
   "cell_type": "code",
   "execution_count": 19,
   "id": "f9f56ea7",
   "metadata": {},
   "outputs": [],
   "source": [
    "loaded_model = pickle.load(open('./model.pkl', 'rb'))\n",
    "loaded_tfidf = pickle.load(open('./tfidf.pkl','rb'))"
   ]
  },
  {
   "cell_type": "code",
   "execution_count": 20,
   "id": "eb1fb4d8",
   "metadata": {},
   "outputs": [],
   "source": [
    "def fake_news_det(news):\n",
    "    review = news\n",
    "    review = re.sub(r'[^a-zA-Z\\s]', '', review)\n",
    "    review = review.lower()\n",
    "    review = nltk.word_tokenize(review)\n",
    "    for y in review :\n",
    "        if y not in stpwrds :\n",
    "            corpus.append(lemmatizer.lemmatize(y))     \n",
    "    input_data = [' '.join(corpus)]\n",
    "    vectorized_input_data = loaded_tfidf.transform(input_data)\n",
    "    prediction = loaded_model.predict(vectorized_input_data)\n",
    "    print(prediction)\n",
    "    if prediction[0] == 0:\n",
    "        print(\"Prediction of the News :  Looking Fake⚠ News������ \")\n",
    "    else:\n",
    "        print(\"Prediction of the News : Looking Real News������ \")"
   ]
  },
  {
   "cell_type": "code",
   "execution_count": 21,
   "id": "69f1719d",
   "metadata": {},
   "outputs": [],
   "source": [
    "n = \"The Trump campaign has confirmed to Hannity.com that Mr. Trump did indeed send his plane to make two trips from North Carolina to Miami, Florida to transport over 200 Gulf War Marines back home\""
   ]
  },
  {
   "cell_type": "code",
   "execution_count": 22,
   "id": "2f486ca4",
   "metadata": {},
   "outputs": [
    {
     "name": "stdout",
     "output_type": "stream",
     "text": [
      "[1]\n"
     ]
    }
   ],
   "source": [
    "fake_news_det(n)"
   ]
  },
  {
   "cell_type": "code",
   "execution_count": 23,
   "id": "0de8b371",
   "metadata": {},
   "outputs": [
    {
     "data": {
      "text/html": [
       "<div>\n",
       "<style scoped>\n",
       "    .dataframe tbody tr th:only-of-type {\n",
       "        vertical-align: middle;\n",
       "    }\n",
       "\n",
       "    .dataframe tbody tr th {\n",
       "        vertical-align: top;\n",
       "    }\n",
       "\n",
       "    .dataframe thead th {\n",
       "        text-align: right;\n",
       "    }\n",
       "</style>\n",
       "<table border=\"1\" class=\"dataframe\">\n",
       "  <thead>\n",
       "    <tr style=\"text-align: right;\">\n",
       "      <th></th>\n",
       "      <th>Unnamed: 0</th>\n",
       "      <th>title</th>\n",
       "      <th>text</th>\n",
       "      <th>label</th>\n",
       "    </tr>\n",
       "  </thead>\n",
       "  <tbody>\n",
       "    <tr>\n",
       "      <th>0</th>\n",
       "      <td>8476</td>\n",
       "      <td>You Can Smell Hillary’s Fear</td>\n",
       "      <td>daniel greenfield shillman journalism fellow f...</td>\n",
       "      <td>FAKE</td>\n",
       "    </tr>\n",
       "    <tr>\n",
       "      <th>1</th>\n",
       "      <td>10294</td>\n",
       "      <td>Watch The Exact Moment Paul Ryan Committed Pol...</td>\n",
       "      <td>google pinterest digg linkedin reddit stumbleu...</td>\n",
       "      <td>FAKE</td>\n",
       "    </tr>\n",
       "    <tr>\n",
       "      <th>2</th>\n",
       "      <td>3608</td>\n",
       "      <td>Kerry to go to Paris in gesture of sympathy</td>\n",
       "      <td>u secretary state john f kerry said monday sto...</td>\n",
       "      <td>REAL</td>\n",
       "    </tr>\n",
       "    <tr>\n",
       "      <th>3</th>\n",
       "      <td>10142</td>\n",
       "      <td>Bernie supporters on Twitter erupt in anger ag...</td>\n",
       "      <td>kaydee king kaydeeking november lesson tonight...</td>\n",
       "      <td>FAKE</td>\n",
       "    </tr>\n",
       "    <tr>\n",
       "      <th>4</th>\n",
       "      <td>875</td>\n",
       "      <td>The Battle of New York: Why This Primary Matters</td>\n",
       "      <td>primary day new york frontrunners hillary clin...</td>\n",
       "      <td>REAL</td>\n",
       "    </tr>\n",
       "    <tr>\n",
       "      <th>...</th>\n",
       "      <td>...</td>\n",
       "      <td>...</td>\n",
       "      <td>...</td>\n",
       "      <td>...</td>\n",
       "    </tr>\n",
       "    <tr>\n",
       "      <th>6330</th>\n",
       "      <td>4490</td>\n",
       "      <td>State Department says it can't find emails fro...</td>\n",
       "      <td>state department told republican national comm...</td>\n",
       "      <td>REAL</td>\n",
       "    </tr>\n",
       "    <tr>\n",
       "      <th>6331</th>\n",
       "      <td>8062</td>\n",
       "      <td>The ‘P’ in PBS Should Stand for ‘Plutocratic’ ...</td>\n",
       "      <td>p pb stand plutocratic pentagon posted oct wik...</td>\n",
       "      <td>FAKE</td>\n",
       "    </tr>\n",
       "    <tr>\n",
       "      <th>6332</th>\n",
       "      <td>8622</td>\n",
       "      <td>Anti-Trump Protesters Are Tools of the Oligarc...</td>\n",
       "      <td>antitrump protester tool oligarchy reform alwa...</td>\n",
       "      <td>FAKE</td>\n",
       "    </tr>\n",
       "    <tr>\n",
       "      <th>6333</th>\n",
       "      <td>4021</td>\n",
       "      <td>In Ethiopia, Obama seeks progress on peace, se...</td>\n",
       "      <td>addis ababa ethiopia president obama convened ...</td>\n",
       "      <td>REAL</td>\n",
       "    </tr>\n",
       "    <tr>\n",
       "      <th>6334</th>\n",
       "      <td>4330</td>\n",
       "      <td>Jeb Bush Is Suddenly Attacking Trump. Here's W...</td>\n",
       "      <td>jeb bush suddenly attacking trump here matter ...</td>\n",
       "      <td>REAL</td>\n",
       "    </tr>\n",
       "  </tbody>\n",
       "</table>\n",
       "<p>6335 rows × 4 columns</p>\n",
       "</div>"
      ],
      "text/plain": [
       "      Unnamed: 0                                              title  \\\n",
       "0           8476                       You Can Smell Hillary’s Fear   \n",
       "1          10294  Watch The Exact Moment Paul Ryan Committed Pol...   \n",
       "2           3608        Kerry to go to Paris in gesture of sympathy   \n",
       "3          10142  Bernie supporters on Twitter erupt in anger ag...   \n",
       "4            875   The Battle of New York: Why This Primary Matters   \n",
       "...          ...                                                ...   \n",
       "6330        4490  State Department says it can't find emails fro...   \n",
       "6331        8062  The ‘P’ in PBS Should Stand for ‘Plutocratic’ ...   \n",
       "6332        8622  Anti-Trump Protesters Are Tools of the Oligarc...   \n",
       "6333        4021  In Ethiopia, Obama seeks progress on peace, se...   \n",
       "6334        4330  Jeb Bush Is Suddenly Attacking Trump. Here's W...   \n",
       "\n",
       "                                                   text label  \n",
       "0     daniel greenfield shillman journalism fellow f...  FAKE  \n",
       "1     google pinterest digg linkedin reddit stumbleu...  FAKE  \n",
       "2     u secretary state john f kerry said monday sto...  REAL  \n",
       "3     kaydee king kaydeeking november lesson tonight...  FAKE  \n",
       "4     primary day new york frontrunners hillary clin...  REAL  \n",
       "...                                                 ...   ...  \n",
       "6330  state department told republican national comm...  REAL  \n",
       "6331  p pb stand plutocratic pentagon posted oct wik...  FAKE  \n",
       "6332  antitrump protester tool oligarchy reform alwa...  FAKE  \n",
       "6333  addis ababa ethiopia president obama convened ...  REAL  \n",
       "6334  jeb bush suddenly attacking trump here matter ...  REAL  \n",
       "\n",
       "[6335 rows x 4 columns]"
      ]
     },
     "execution_count": 23,
     "metadata": {},
     "output_type": "execute_result"
    }
   ],
   "source": [
    "df"
   ]
  },
  {
   "cell_type": "code",
   "execution_count": 24,
   "id": "70c11d10",
   "metadata": {},
   "outputs": [
    {
     "name": "stdout",
     "output_type": "stream",
     "text": [
      "[1]\n"
     ]
    }
   ],
   "source": [
    "fake_news_det(df['text'][2])"
   ]
  },
  {
   "cell_type": "markdown",
   "id": "43d04e74",
   "metadata": {},
   "source": [
    "# Web Scrapping"
   ]
  },
  {
   "cell_type": "code",
   "execution_count": 1,
   "id": "fdc9a70e",
   "metadata": {},
   "outputs": [],
   "source": [
    "from bs4 import BeautifulSoup as Bsoup\n",
    "import requests"
   ]
  },
  {
   "cell_type": "code",
   "execution_count": 2,
   "id": "2ee860de",
   "metadata": {},
   "outputs": [],
   "source": [
    "def scrape(request):\n",
    "    session = requests.Session()\n",
    "    session.headers = {\"User-Agent\": \"Googlebot/2.1 (+http://www.google.com/bot.html)\"}\n",
    "    url = \"https://www.theonion.com/\"\n",
    "\n",
    "    content = session.get(url, verify=False).content\n",
    "    soup = BSoup(content, \"html.parser\")\n",
    "    News = soup.find_all('div', {\"class\":\"curation-module__item\"})\n",
    "    for artcile in News:\n",
    "        main = artcile.find_all('a')[0]\n",
    "        link = main['href']\n",
    "        image_src = str(main.find('img')['srcset']).split(\" \")[-4]\n",
    "        title = main['title']\n",
    "        new_headline = Headline()\n",
    "        new_headline.title = title\n",
    "        new_headline.url = link\n",
    "        new_headline.image = image_src\n",
    "        new_headline.save()\n",
    "    return redirect(\"../\")"
   ]
  },
  {
   "cell_type": "code",
   "execution_count": 2,
   "id": "3f81a82b",
   "metadata": {},
   "outputs": [
    {
     "name": "stderr",
     "output_type": "stream",
     "text": [
      "C:\\Users\\vishw\\AppData\\Local\\Programs\\Python\\Python39\\lib\\site-packages\\urllib3\\connectionpool.py:1013: InsecureRequestWarning: Unverified HTTPS request is being made to host 'www.news18.com'. Adding certificate verification is strongly advised. See: https://urllib3.readthedocs.io/en/1.26.x/advanced-usage.html#ssl-warnings\n",
      "  warnings.warn(\n"
     ]
    }
   ],
   "source": [
    "session = requests.Session()\n",
    "session.headers = {\"User-Agent\": \"Googlebot/2.1 (+http://www.google.com/bot.html)\"}\n",
    "url = \"https://www.news18.com/india/\"\n",
    "content = session.get(url, verify=False).content\n",
    "soup = Bsoup(content, \"html.parser\")"
   ]
  },
  {
   "cell_type": "code",
   "execution_count": 6,
   "id": "bec8aafd",
   "metadata": {},
   "outputs": [
    {
     "data": {
      "text/plain": [
       "[<div class=\"jsx-3621759782 blog_list_row\"><a class=\"jsx-3621759782\" href=\"https://www.news18.com/news/india/police-army-joint-operation-recover-huge-cache-of-arms-ammunition-in-jks-uri-6688855.html\"><figure class=\"jsx-3621759782\"><div class=\"jsx-3621759782 blog_img\"><div class=\"News\"></div><img alt=\"Police-Army Joint Operation Recover Huge Cache of Arms, Ammunition in J&amp;K's Uri\" class=\"jsx-3621759782 lazyload\" data-src=\"https://images.news18.com/ibnlive/uploads/2022/12/arms-ammunition111-1-16718954693x2.jpg?impolicy=website&amp;width=219&amp;height=147\" src=\"https://images.news18.com/static_news18/pix/ibnhome/news18/images/default-218x145.jpg?impolicy=website&amp;width=219&amp;height=147\" title=\"Police-Army Joint Operation Recover Huge Cache of Arms, Ammunition in J&amp;K's Uri\"/></div><figcaption class=\"jsx-3621759782\"><div class=\"jsx-3621759782 blog_title\"><h4 class=\"jsx-3621759782\">Police-Army Joint Operation Recover Huge Cache of Arms, Ammunition in J&amp;K's Uri</h4></div></figcaption></figure></a></div>,\n",
       " <div class=\"jsx-3621759782 blog_list_row\"><a class=\"jsx-3621759782\" href=\"https://www.news18.com/news/world/pm-modi-congratulates-fijis-newly-elected-premier-sitiveni-rabuka-6688051.html\"><figure class=\"jsx-3621759782\"><div class=\"jsx-3621759782 blog_img\"><div class=\"News\"></div><img alt=\"PM Modi Congratulates Fiji's Newly-elected Premier Sitiveni Rabuka\" class=\"jsx-3621759782 lazyload\" data-src=\"https://images.news18.com/ibnlive/uploads/2022/12/reuters-fiji-rabuka-16716276093x2.jpg?impolicy=website&amp;width=219&amp;height=147\" src=\"https://images.news18.com/static_news18/pix/ibnhome/news18/images/default-218x145.jpg?impolicy=website&amp;width=219&amp;height=147\" title=\"PM Modi Congratulates Fiji's Newly-elected Premier Sitiveni Rabuka\"/></div><figcaption class=\"jsx-3621759782\"><div class=\"jsx-3621759782 blog_title\"><h4 class=\"jsx-3621759782\">PM Modi Congratulates Fiji's Newly-elected Premier Sitiveni Rabuka</h4></div></figcaption></figure></a></div>,\n",
       " <div class=\"jsx-3621759782 blog_list_row\"><a class=\"jsx-3621759782\" href=\"https://www.news18.com/news/india/2-sanitation-workers-killed-3-injured-as-car-runs-over-them-in-telangana-6688813.html\"><figure class=\"jsx-3621759782\"><div class=\"jsx-3621759782 blog_img\"><div class=\"News\"></div><img alt=\"2 Sanitation Workers Killed, 3 Injured as Car Runs Over Them in Telangana\" class=\"jsx-3621759782 lazyload\" data-src=\"https://images.news18.com/ibnlive/uploads/2022/08/crime-scene-16603004943x2.jpg?impolicy=website&amp;width=219&amp;height=147\" src=\"https://images.news18.com/static_news18/pix/ibnhome/news18/images/default-218x145.jpg?impolicy=website&amp;width=219&amp;height=147\" title=\"2 Sanitation Workers Killed, 3 Injured as Car Runs Over Them in Telangana\"/></div><figcaption class=\"jsx-3621759782\"><div class=\"jsx-3621759782 blog_title\"><h4 class=\"jsx-3621759782\">2 Sanitation Workers Killed, 3 Injured as Car Runs Over Them in Telangana</h4></div></figcaption></figure></a></div>,\n",
       " <div class=\"jsx-3621759782 blog_list_row\"><a class=\"jsx-3621759782\" href=\"https://www.news18.com/news/india/pm-modi-will-lead-heads-of-superpower-nations-during-g-20-summit-union-minister-raosaheb-danve-6688783.html\"><figure class=\"jsx-3621759782\"><div class=\"jsx-3621759782 blog_img\"><div class=\"News\"></div><img alt=\"PM Modi Will Lead Heads of Superpower Nations During G-20 Summit: Union Minister Raosaheb Danve\" class=\"jsx-3621759782 lazyload\" data-src=\"https://images.news18.com/ibnlive/uploads/2022/12/narendra-modi-wishes-16698735843x2.jpg?impolicy=website&amp;width=219&amp;height=147\" src=\"https://images.news18.com/static_news18/pix/ibnhome/news18/images/default-218x145.jpg?impolicy=website&amp;width=219&amp;height=147\" title=\"PM Modi Will Lead Heads of Superpower Nations During G-20 Summit: Union Minister Raosaheb Danve\"/></div><figcaption class=\"jsx-3621759782\"><div class=\"jsx-3621759782 blog_title\"><h4 class=\"jsx-3621759782\">PM Modi Will Lead Heads of Superpower Nations During G-20 Summit: Union Minister Raosaheb Danve</h4></div></figcaption></figure></a></div>,\n",
       " <div class=\"jsx-3621759782 blog_list_row\"><a class=\"jsx-3621759782\" href=\"https://www.news18.com/news/india/planning-to-party-this-christmas-new-year-check-out-these-precautions-by-states-amid-covid-scare-6688177.html\"><figure class=\"jsx-3621759782\"><div class=\"jsx-3621759782 blog_img\"><div class=\"News\"></div><img alt=\"Planning to Party This Christmas, New Year? Here's What States Have to Say Amid Covid Scare\" class=\"jsx-3621759782 lazyload\" data-src=\"https://images.news18.com/ibnlive/uploads/2022/12/coronavirus-india1111-16718067413x2.jpg?impolicy=website&amp;width=219&amp;height=147\" src=\"https://images.news18.com/static_news18/pix/ibnhome/news18/images/default-218x145.jpg?impolicy=website&amp;width=219&amp;height=147\" title=\"Planning to Party This Christmas, New Year? Here's What States Have to Say Amid Covid Scare\"/></div><figcaption class=\"jsx-3621759782\"><div class=\"jsx-3621759782 blog_title\"><h4 class=\"jsx-3621759782\">Planning to Party This Christmas, New Year? Here's What States Have to Say Amid Covid Scare</h4></div></figcaption></figure></a></div>,\n",
       " <div class=\"jsx-3621759782 blog_list_row\"><a class=\"jsx-3621759782\" href=\"https://www.news18.com/news/india/ai-initiative-to-minimise-impact-on-passengers-due-to-fog-related-flight-disruptions-6688471.html\"><figure class=\"jsx-3621759782\"><div class=\"jsx-3621759782 blog_img\"><div class=\"News\"></div><img alt=\"'Reschedule, Cancel Flights Free of Cost': Air India Launches 'FogCare' Initiative | Here's What It Means\" class=\"jsx-3621759782 lazyload\" data-src=\"https://images.news18.com/ibnlive/uploads/2022/11/air-india-16718888493x2.jpg?impolicy=website&amp;width=219&amp;height=147\" src=\"https://images.news18.com/static_news18/pix/ibnhome/news18/images/default-218x145.jpg?impolicy=website&amp;width=219&amp;height=147\" title=\"'Reschedule, Cancel Flights Free of Cost': Air India Launches 'FogCare' Initiative | Here's What It Means\"/></div><figcaption class=\"jsx-3621759782\"><div class=\"jsx-3621759782 blog_title\"><h4 class=\"jsx-3621759782\">'Reschedule, Cancel Flights Free of Cost': Air India Launches 'FogCare' Initiative | Here's What It Means</h4></div></figcaption></figure></a></div>,\n",
       " <div class=\"jsx-3621759782 blog_list_row\"><a class=\"jsx-3621759782\" href=\"https://www.news18.com/news/india/8-sabarimala-pilgrims-killed-in-tamil-nadu-mishap-6688399.html\"><figure class=\"jsx-3621759782\"><div class=\"jsx-3621759782 blog_img\"><div class=\"News\"></div><img alt=\"8 Sabarimala Pilgrims Killed in Tamil Nadu Mishap\" class=\"jsx-3621759782 lazyload\" data-src=\"https://images.news18.com/ibnlive/uploads/2022/10/road-accident-16718878953x2.jpg?impolicy=website&amp;width=219&amp;height=147\" src=\"https://images.news18.com/static_news18/pix/ibnhome/news18/images/default-218x145.jpg?impolicy=website&amp;width=219&amp;height=147\" title=\"8 Sabarimala Pilgrims Killed in Tamil Nadu Mishap\"/></div><figcaption class=\"jsx-3621759782\"><div class=\"jsx-3621759782 blog_title\"><h4 class=\"jsx-3621759782\">8 Sabarimala Pilgrims Killed in Tamil Nadu Mishap</h4></div></figcaption></figure></a></div>,\n",
       " <div class=\"jsx-3621759782 blog_list_row\"><a class=\"jsx-3621759782\" href=\"https://www.news18.com/news/india/education-in-mother-tongue-will-increase-students-ability-to-think-reason-analyse-shah-6687469.html\"><figure class=\"jsx-3621759782\"><div class=\"jsx-3621759782 blog_img\"><div class=\"News\"></div><img alt=\"Education in Mother Tongue Will Increase Students' Ability to Think, Reason, Analyse: Shah\" class=\"jsx-3621759782 lazyload\" data-src=\"https://images.news18.com/ibnlive/uploads/2022/11/amit-shah-16682463413x2.jpg?impolicy=website&amp;width=219&amp;height=147\" src=\"https://images.news18.com/static_news18/pix/ibnhome/news18/images/default-218x145.jpg?impolicy=website&amp;width=219&amp;height=147\" title=\"Education in Mother Tongue Will Increase Students' Ability to Think, Reason, Analyse: Shah\"/></div><figcaption class=\"jsx-3621759782\"><div class=\"jsx-3621759782 blog_title\"><h4 class=\"jsx-3621759782\">Education in Mother Tongue Will Increase Students' Ability to Think, Reason, Analyse: Shah</h4></div></figcaption></figure></a></div>,\n",
       " <div class=\"jsx-3621759782 blog_list_row\"><a class=\"jsx-3621759782\" href=\"https://www.news18.com/news/india/delhi-metro-completes-20-years-of-operations-launches-special-exhibition-6688387.html\"><figure class=\"jsx-3621759782\"><div class=\"jsx-3621759782 blog_img\"><div class=\"News\"></div><img alt=\"Delhi Metro Completes 20 Years of Operations, Launches Special Exhibition\" class=\"jsx-3621759782 lazyload\" data-src=\"https://images.news18.com/ibnlive/uploads/2022/08/delhi-metro2a-16604518843x2.jpg?impolicy=website&amp;width=219&amp;height=147\" src=\"https://images.news18.com/static_news18/pix/ibnhome/news18/images/default-218x145.jpg?impolicy=website&amp;width=219&amp;height=147\" title=\"Delhi Metro Completes 20 Years of Operations, Launches Special Exhibition\"/></div><figcaption class=\"jsx-3621759782\"><div class=\"jsx-3621759782 blog_title\"><h4 class=\"jsx-3621759782\">Delhi Metro Completes 20 Years of Operations, Launches Special Exhibition</h4></div></figcaption></figure></a></div>,\n",
       " <div class=\"jsx-3621759782 blog_list_row\"><a class=\"jsx-3621759782\" href=\"https://www.news18.com/news/lifestyle/merry-christmas-2022-wishes-bts-photos-facebook-status-quotes-messages-6666667.html\"><figure class=\"jsx-3621759782\"><div class=\"jsx-3621759782 blog_img\"><div class=\"News\"></div><img alt=\"Merry Christmas 2022: Best Wishes, Images, Status, Quotes, Messages, Facebook and WhatsApp Greetings to Share with Your Loved Ones on Xmas\" class=\"jsx-3621759782 lazyload\" data-src=\"https://images.news18.com/ibnlive/uploads/2022/12/merry-christmas-2022-wishes-images-16717288533x2.jpg?impolicy=website&amp;width=219&amp;height=147\" src=\"https://images.news18.com/static_news18/pix/ibnhome/news18/images/default-218x145.jpg?impolicy=website&amp;width=219&amp;height=147\" title=\"Merry Christmas 2022: Best Wishes, Images, Status, Quotes, Messages, Facebook and WhatsApp Greetings to Share with Your Loved Ones on Xmas\"/></div><figcaption class=\"jsx-3621759782\"><div class=\"jsx-3621759782 blog_title\"><h4 class=\"jsx-3621759782\">Merry Christmas 2022: Best Wishes, Images, Status, Quotes, Messages, Facebook and WhatsApp Greetings to Share with Your Loved Ones on Xmas</h4></div></figcaption></figure></a></div>,\n",
       " <div class=\"jsx-3621759782 blog_list_row\"><a class=\"jsx-3621759782\" href=\"https://www.news18.com/videos/world/eu-walks-back-on-deal-with-hungary-after-orban-allows-ukraine-aid-to-pass-eu-–-hungary-tussle-6688279.html\"><figure class=\"jsx-3621759782\"><div class=\"jsx-3621759782 blog_img\"><div class=\"catagoryIcon video\"></div><img alt=\"EU Walks Back On Deal With Hungary After Orban Allows Ukraine Aid To Pass | EU – Hungary Tussle\" class=\"jsx-3621759782 lazyload\" data-src=\"https://images.news18.com/ibnlive/uploads/2022/12/1671886466_ae93fd2a-0c20-443f-8d19-952b31503614-16718864663x2.jpeg?impolicy=website&amp;width=219&amp;height=147\" src=\"https://images.news18.com/static_news18/pix/ibnhome/news18/images/default-218x145.jpg?impolicy=website&amp;width=219&amp;height=147\" title=\"EU Walks Back On Deal With Hungary After Orban Allows Ukraine Aid To Pass | EU – Hungary Tussle\"/></div><figcaption class=\"jsx-3621759782\"><div class=\"jsx-3621759782 blog_title\"><h4 class=\"jsx-3621759782\">EU Walks Back On Deal With Hungary After Orban Allows Ukraine Aid To Pass | EU – Hungary Tussle</h4></div></figcaption></figure></a></div>,\n",
       " <div class=\"jsx-3621759782 blog_list_row\"><a class=\"jsx-3621759782\" href=\"https://www.news18.com/news/india/sisodia-writes-to-lg-saxena-for-renewal-of-agencies-providing-free-lab-tests-at-delhi-govt-hospitals-mohalla-clinics-6688057.html\"><figure class=\"jsx-3621759782\"><div class=\"jsx-3621759782 blog_img\"><div class=\"News\"></div><img alt=\"Sisodia Writes to LG Saxena for Renewal of Agencies Providing Free Lab Tests at Delhi Govt Hospitals, Mohalla Clinics\" class=\"jsx-3621759782 lazyload\" data-src=\"https://images.news18.com/ibnlive/uploads/2022/10/manish-sisodia-16670363113x2.jpg?impolicy=website&amp;width=219&amp;height=147\" src=\"https://images.news18.com/static_news18/pix/ibnhome/news18/images/default-218x145.jpg?impolicy=website&amp;width=219&amp;height=147\" title=\"Sisodia Writes to LG Saxena for Renewal of Agencies Providing Free Lab Tests at Delhi Govt Hospitals, Mohalla Clinics\"/></div><figcaption class=\"jsx-3621759782\"><div class=\"jsx-3621759782 blog_title\"><h4 class=\"jsx-3621759782\">Sisodia Writes to LG Saxena for Renewal of Agencies Providing Free Lab Tests at Delhi Govt Hospitals, Mohalla Clinics</h4></div></figcaption></figure></a></div>,\n",
       " <div class=\"jsx-3621759782 blog_list_row\"><a class=\"jsx-3621759782\" href=\"https://www.news18.com/news/india/students-dressing-up-as-santa-claus-against-hindu-culture-vhp-threatens-bhopal-schools-with-legal-action-6687865.html\"><figure class=\"jsx-3621759782\"><div class=\"jsx-3621759782 blog_img\"><div class=\"News\"></div><img alt=\"'India Land of Saints, Not Santa': VHP Warns MP Schools Against Celebrating Christmas, Calls It 'Attack on Hindu Culture'\" class=\"jsx-3621759782 lazyload\" data-src=\"https://images.news18.com/ibnlive/uploads/2022/12/christmas-16718848763x2.jpg?impolicy=website&amp;width=219&amp;height=147\" src=\"https://images.news18.com/static_news18/pix/ibnhome/news18/images/default-218x145.jpg?impolicy=website&amp;width=219&amp;height=147\" title=\"'India Land of Saints, Not Santa': VHP Warns MP Schools Against Celebrating Christmas, Calls It 'Attack on Hindu Culture'\"/></div><figcaption class=\"jsx-3621759782\"><div class=\"jsx-3621759782 blog_title\"><h4 class=\"jsx-3621759782\">'India Land of Saints, Not Santa': VHP Warns MP Schools Against Celebrating Christmas, Calls It 'Attack on Hindu Culture'</h4></div></figcaption></figure></a></div>,\n",
       " <div class=\"jsx-3621759782 blog_list_row\"><a class=\"jsx-3621759782\" href=\"https://www.news18.com/videos/india/sikkim-army-truck-accident-yogi-adityanath-announces-compensation-to-martyrs-english-news-6687913.html\"><figure class=\"jsx-3621759782\"><div class=\"jsx-3621759782 blog_img\"><div class=\"catagoryIcon video\"></div><img alt=\"Sikkim Army Truck Accident: Yogi Adityanath Announces Compensation To Martyrs | English News\" class=\"jsx-3621759782 lazyload\" data-src=\"https://images.news18.com/ibnlive/uploads/2022/12/1671883943_476c8931-f54f-4c42-9f95-1f4831cfd345-16718839433x2.jpeg?impolicy=website&amp;width=219&amp;height=147\" src=\"https://images.news18.com/static_news18/pix/ibnhome/news18/images/default-218x145.jpg?impolicy=website&amp;width=219&amp;height=147\" title=\"Sikkim Army Truck Accident: Yogi Adityanath Announces Compensation To Martyrs | English News\"/></div><figcaption class=\"jsx-3621759782\"><div class=\"jsx-3621759782 blog_title\"><h4 class=\"jsx-3621759782\">Sikkim Army Truck Accident: Yogi Adityanath Announces Compensation To Martyrs | English News</h4></div></figcaption></figure></a></div>,\n",
       " <div class=\"jsx-3621759782 blog_list_row\"><a class=\"jsx-3621759782\" href=\"https://www.news18.com/news/india/is-there-any-link-between-sudden-cardiac-arrest-covid-19-icmr-to-probe-6687493.html\"><figure class=\"jsx-3621759782\"><div class=\"jsx-3621759782 blog_img\"><div class=\"News\"></div><img alt=\"Is There Any Link Between Sudden Cardiac Arrest &amp; Covid-19? ICMR to Probe\" class=\"jsx-3621759782 lazyload\" data-src=\"https://images.news18.com/ibnlive/uploads/2022/11/untitled-design-5-22-16718809773x2.png?impolicy=website&amp;width=219&amp;height=147\" src=\"https://images.news18.com/static_news18/pix/ibnhome/news18/images/default-218x145.jpg?impolicy=website&amp;width=219&amp;height=147\" title=\"Is There Any Link Between Sudden Cardiac Arrest &amp; Covid-19? ICMR to Probe\"/></div><figcaption class=\"jsx-3621759782\"><div class=\"jsx-3621759782 blog_title\"><h4 class=\"jsx-3621759782\">Is There Any Link Between Sudden Cardiac Arrest &amp; Covid-19? ICMR to Probe</h4></div></figcaption></figure></a></div>,\n",
       " <div class=\"jsx-3621759782 blog_list_row\"><a class=\"jsx-3621759782\" href=\"https://www.news18.com/news/india/news18-evening-digest-mathura-court-orders-survey-of-shahi-idgah-mosque-other-top-stories-6686689.html\"><figure class=\"jsx-3621759782\"><div class=\"jsx-3621759782 blog_img\"><div class=\"News\"></div><img alt=\"News18 Evening Digest: Mathura Court Orders Survey of Shahi Idgah Mosque &amp; Other Top Stories\" class=\"jsx-3621759782 lazyload\" data-src=\"https://images.news18.com/ibnlive/uploads/2022/12/new18-30-16718770033x2.jpg?impolicy=website&amp;width=219&amp;height=147\" src=\"https://images.news18.com/static_news18/pix/ibnhome/news18/images/default-218x145.jpg?impolicy=website&amp;width=219&amp;height=147\" title=\"News18 Evening Digest: Mathura Court Orders Survey of Shahi Idgah Mosque &amp; Other Top Stories\"/></div><figcaption class=\"jsx-3621759782\"><div class=\"jsx-3621759782 blog_title\"><h4 class=\"jsx-3621759782\">News18 Evening Digest: Mathura Court Orders Survey of Shahi Idgah Mosque &amp; Other Top Stories</h4></div></figcaption></figure></a></div>,\n",
       " <div class=\"jsx-3621759782 blog_list_row\"><a class=\"jsx-3621759782\" href=\"https://www.news18.com/news/india/sars-cov-2-rna-found-in-sewage-samples-from-delhi-and-mumbai-all-about-the-pandemic-monitoring-tool-6686749.html\"><figure class=\"jsx-3621759782\"><div class=\"jsx-3621759782 blog_img\"><div class=\"News\"></div><img alt=\"Covid RNA Found in Sewage Samples from Delhi, Mumbai | How Testing Wastewater Helps Contain Pandemic\" class=\"jsx-3621759782 lazyload\" data-src=\"https://images.news18.com/ibnlive/uploads/2022/06/train-covid-16550872063x2.jpg?impolicy=website&amp;width=219&amp;height=147\" src=\"https://images.news18.com/static_news18/pix/ibnhome/news18/images/default-218x145.jpg?impolicy=website&amp;width=219&amp;height=147\" title=\"Covid RNA Found in Sewage Samples from Delhi, Mumbai | How Testing Wastewater Helps Contain Pandemic\"/></div><figcaption class=\"jsx-3621759782\"><div class=\"jsx-3621759782 blog_title\"><h4 class=\"jsx-3621759782\">Covid RNA Found in Sewage Samples from Delhi, Mumbai | How Testing Wastewater Helps Contain Pandemic</h4></div></figcaption></figure></a></div>,\n",
       " <div class=\"jsx-3621759782 blog_list_row\"><a class=\"jsx-3621759782\" href=\"https://www.news18.com/news/india/rajasthan-2nd-grade-teacher-recruitment-exam-paper-leaked-44-held-6686971.html\"><figure class=\"jsx-3621759782\"><div class=\"jsx-3621759782 blog_img\"><div class=\"News\"></div><img alt=\"Rajasthan 2nd Grade Teacher Recruitment Exam Paper Leaked; 44 Held\" class=\"jsx-3621759782 lazyload\" data-src=\"https://images.news18.com/ibnlive/uploads/2022/12/woman-arrest-16710881603x2.png?impolicy=website&amp;width=219&amp;height=147\" src=\"https://images.news18.com/static_news18/pix/ibnhome/news18/images/default-218x145.jpg?impolicy=website&amp;width=219&amp;height=147\" title=\"Rajasthan 2nd Grade Teacher Recruitment Exam Paper Leaked; 44 Held\"/></div><figcaption class=\"jsx-3621759782\"><div class=\"jsx-3621759782 blog_title\"><h4 class=\"jsx-3621759782\">Rajasthan 2nd Grade Teacher Recruitment Exam Paper Leaked; 44 Held</h4></div></figcaption></figure></a></div>,\n",
       " <div class=\"jsx-3621759782 blog_list_row\"><a class=\"jsx-3621759782\" href=\"https://www.news18.com/news/india/videocon-loan-case-icici-banks-ex-ceo-chanda-kochhar-her-husband-sent-to-cbi-custody-till-dec-26-6686923.html\"><figure class=\"jsx-3621759782\"><div class=\"jsx-3621759782 blog_img\"><div class=\"News\"></div><img alt=\"Ex-ICICI Bank CEO Chanda Kochhar, Her Husband Sent to 3-day CBI Custody in Videocon Loan Case\" class=\"jsx-3621759782 lazyload\" data-src=\"https://images.news18.com/ibnlive/uploads/2022/12/chanda-kochhar-1-16718133473x2.jpg?impolicy=website&amp;width=219&amp;height=147\" src=\"https://images.news18.com/static_news18/pix/ibnhome/news18/images/default-218x145.jpg?impolicy=website&amp;width=219&amp;height=147\" title=\"Ex-ICICI Bank CEO Chanda Kochhar, Her Husband Sent to 3-day CBI Custody in Videocon Loan Case\"/></div><figcaption class=\"jsx-3621759782\"><div class=\"jsx-3621759782 blog_title\"><h4 class=\"jsx-3621759782\">Ex-ICICI Bank CEO Chanda Kochhar, Her Husband Sent to 3-day CBI Custody in Videocon Loan Case</h4></div></figcaption></figure></a></div>,\n",
       " <div class=\"jsx-3621759782 blog_list_row\"><a class=\"jsx-3621759782\" href=\"https://www.news18.com/news/india/no-amount-of-money-material-compensation-can-erase-trauma-of-accident-victim-sc-6686545.html\"><figure class=\"jsx-3621759782\"><div class=\"jsx-3621759782 blog_img\"><div class=\"News\"></div><img alt=\"No Amount of Money, Material Compensation Can Erase Trauma of Accident Victim: SC\" class=\"jsx-3621759782 lazyload\" data-src=\"https://images.news18.com/ibnlive/uploads/2022/12/supreme-court-of-india-reuters-16711981213x2.jpg?impolicy=website&amp;width=219&amp;height=147\" src=\"https://images.news18.com/static_news18/pix/ibnhome/news18/images/default-218x145.jpg?impolicy=website&amp;width=219&amp;height=147\" title=\"No Amount of Money, Material Compensation Can Erase Trauma of Accident Victim: SC\"/></div><figcaption class=\"jsx-3621759782\"><div class=\"jsx-3621759782 blog_title\"><h4 class=\"jsx-3621759782\">No Amount of Money, Material Compensation Can Erase Trauma of Accident Victim: SC</h4></div></figcaption></figure></a></div>,\n",
       " <div class=\"jsx-3621759782 blog_list_row\"><a class=\"jsx-3621759782\" href=\"https://www.news18.com/news/india/53-jihadis-arrested-in-assam-so-far-govt-6686665.html\"><figure class=\"jsx-3621759782\"><div class=\"jsx-3621759782 blog_img\"><div class=\"News\"></div><img alt=\"53 'Jihadis' Arrested in Assam So Far, Says Govt\" class=\"jsx-3621759782 lazyload\" data-src=\"https://images.news18.com/ibnlive/uploads/2022/12/collage-maker-08-dec-2022-08.14-pm-16705106633x2.jpg?impolicy=website&amp;width=219&amp;height=147\" src=\"https://images.news18.com/static_news18/pix/ibnhome/news18/images/default-218x145.jpg?impolicy=website&amp;width=219&amp;height=147\" title=\"53 'Jihadis' Arrested in Assam So Far, Says Govt\"/></div><figcaption class=\"jsx-3621759782\"><div class=\"jsx-3621759782 blog_title\"><h4 class=\"jsx-3621759782\">53 'Jihadis' Arrested in Assam So Far, Says Govt</h4></div></figcaption></figure></a></div>,\n",
       " <div class=\"jsx-3621759782 blog_list_row\"><a class=\"jsx-3621759782\" href=\"https://www.news18.com/news/india/mumbai-16-year-old-girl-gang-raped-six-including-friend-held-6686635.html\"><figure class=\"jsx-3621759782\"><div class=\"jsx-3621759782 blog_img\"><div class=\"News\"></div><img alt=\"Mumbai: 16-year-old Girl Gang-raped; Six Including Friend Held\" class=\"jsx-3621759782 lazyload\" data-src=\"https://images.news18.com/ibnlive/uploads/2022/12/woman-arrest-16710881603x2.png?impolicy=website&amp;width=219&amp;height=147\" src=\"https://images.news18.com/static_news18/pix/ibnhome/news18/images/default-218x145.jpg?impolicy=website&amp;width=219&amp;height=147\" title=\"Mumbai: 16-year-old Girl Gang-raped; Six Including Friend Held\"/></div><figcaption class=\"jsx-3621759782\"><div class=\"jsx-3621759782 blog_title\"><h4 class=\"jsx-3621759782\">Mumbai: 16-year-old Girl Gang-raped; Six Including Friend Held</h4></div></figcaption></figure></a></div>,\n",
       " <div class=\"jsx-3621759782 blog_list_row\"><a class=\"jsx-3621759782\" href=\"https://www.news18.com/news/politics/telangana-incubator-dalit-bandhu-scheme-help-sc-women-realise-entrepreneur-dream-6685327.html\"><figure class=\"jsx-3621759782\"><div class=\"jsx-3621759782 blog_img\"><div class=\"News\"></div><img alt=\"Telangana Incubator, Dalit Bandhu Scheme Help SC Women Realise Entrepreneur Dream\" class=\"jsx-3621759782 lazyload\" data-src=\"https://images.news18.com/ibnlive/uploads/2022/12/untitled-design-2022-12-24t152243.486-16718756573x2.jpg?impolicy=website&amp;width=219&amp;height=147\" src=\"https://images.news18.com/static_news18/pix/ibnhome/news18/images/default-218x145.jpg?impolicy=website&amp;width=219&amp;height=147\" title=\"Telangana Incubator, Dalit Bandhu Scheme Help SC Women Realise Entrepreneur Dream\"/></div><figcaption class=\"jsx-3621759782\"><div class=\"jsx-3621759782 blog_title\"><h4 class=\"jsx-3621759782\">Telangana Incubator, Dalit Bandhu Scheme Help SC Women Realise Entrepreneur Dream</h4></div></figcaption></figure></a></div>,\n",
       " <div class=\"jsx-3621759782 blog_list_row\"><a class=\"jsx-3621759782\" href=\"https://www.news18.com/news/india/relatives-accused-in-nearly-half-of-rape-cases-in-himachal-in-past-3-years-police-data-6686557.html\"><figure class=\"jsx-3621759782\"><div class=\"jsx-3621759782 blog_img\"><div class=\"News\"></div><img alt=\"Relatives Accused in Nearly Half of Rape Cases in Himachal in Past 3 Years: Police Data\" class=\"jsx-3621759782 lazyload\" data-src=\"https://images.news18.com/ibnlive/uploads/2022/12/odisha-school-2-16717902763x2.jpg?impolicy=website&amp;width=219&amp;height=147\" src=\"https://images.news18.com/static_news18/pix/ibnhome/news18/images/default-218x145.jpg?impolicy=website&amp;width=219&amp;height=147\" title=\"Relatives Accused in Nearly Half of Rape Cases in Himachal in Past 3 Years: Police Data\"/></div><figcaption class=\"jsx-3621759782\"><div class=\"jsx-3621759782 blog_title\"><h4 class=\"jsx-3621759782\">Relatives Accused in Nearly Half of Rape Cases in Himachal in Past 3 Years: Police Data</h4></div></figcaption></figure></a></div>,\n",
       " <div class=\"jsx-3621759782 blog_list_row\"><a class=\"jsx-3621759782\" href=\"https://www.news18.com/news/india/krishna-janmabhoomi-row-mathura-court-orders-survey-of-shahi-idgah-mosque-asi-to-start-process-after-january-2-6686401.html\"><figure class=\"jsx-3621759782\"><div class=\"jsx-3621759782 blog_img\"><div class=\"News\"></div><img alt=\"Krishna Janmabhoomi Row: Mathura Court Orders Survey Of Shahi Idgah Mosque, ASI To Start Process in Jan\" class=\"jsx-3621759782 lazyload\" data-src=\"https://images.news18.com/ibnlive/uploads/2022/12/collage-maker-24-dec-2022-02.58-pm-16718741813x2.jpg?impolicy=website&amp;width=219&amp;height=147\" src=\"https://images.news18.com/static_news18/pix/ibnhome/news18/images/default-218x145.jpg?impolicy=website&amp;width=219&amp;height=147\" title=\"Krishna Janmabhoomi Row: Mathura Court Orders Survey Of Shahi Idgah Mosque, ASI To Start Process in Jan\"/></div><figcaption class=\"jsx-3621759782\"><div class=\"jsx-3621759782 blog_title\"><h4 class=\"jsx-3621759782\">Krishna Janmabhoomi Row: Mathura Court Orders Survey Of Shahi Idgah Mosque, ASI To Start Process in Jan</h4></div></figcaption></figure></a></div>,\n",
       " <div class=\"jsx-3621759782 blog_list_row\"><a class=\"jsx-3621759782\" href=\"https://www.news18.com/news/india/centre-asks-states-to-ensure-availability-of-oxygen-functional-life-support-equipment-at-hospitals-6686311.html\"><figure class=\"jsx-3621759782\"><div class=\"jsx-3621759782 blog_img\"><div class=\"News\"></div><img alt=\"Centre Asks States to Ensure Availability of Oxygen, Functional Life Support Equipment at Hospitals\" class=\"jsx-3621759782 lazyload\" data-src=\"https://images.news18.com/ibnlive/uploads/2022/12/covid-delhi-16716976933x2.jpg?impolicy=website&amp;width=219&amp;height=147\" src=\"https://images.news18.com/static_news18/pix/ibnhome/news18/images/default-218x145.jpg?impolicy=website&amp;width=219&amp;height=147\" title=\"Centre Asks States to Ensure Availability of Oxygen, Functional Life Support Equipment at Hospitals\"/></div><figcaption class=\"jsx-3621759782\"><div class=\"jsx-3621759782 blog_title\"><h4 class=\"jsx-3621759782\">Centre Asks States to Ensure Availability of Oxygen, Functional Life Support Equipment at Hospitals</h4></div></figcaption></figure></a></div>,\n",
       " <div class=\"jsx-3621759782 blog_list_row\"><a class=\"jsx-3621759782\" href=\"https://www.news18.com/news/india/rt-pcr-to-be-mandatory-for-passengers-from-china-japan-s-korea-singapore-thailand-mandaviya-6686065.html\"><figure class=\"jsx-3621759782\"><div class=\"jsx-3621759782 blog_img\"><div class=\"News\"></div><img alt=\"RT-PCR to Be Mandatory for Passengers from China, Japan, S Korea, Singapore, Thailand: Mandaviya\" class=\"jsx-3621759782 lazyload\" data-src=\"https://images.news18.com/ibnlive/uploads/2022/12/new18-87-1-16718734153x2.jpg?impolicy=website&amp;width=219&amp;height=147\" src=\"https://images.news18.com/static_news18/pix/ibnhome/news18/images/default-218x145.jpg?impolicy=website&amp;width=219&amp;height=147\" title=\"RT-PCR to Be Mandatory for Passengers from China, Japan, S Korea, Singapore, Thailand: Mandaviya\"/></div><figcaption class=\"jsx-3621759782\"><div class=\"jsx-3621759782 blog_title\"><h4 class=\"jsx-3621759782\">RT-PCR to Be Mandatory for Passengers from China, Japan, S Korea, Singapore, Thailand: Mandaviya</h4></div></figcaption></figure></a></div>,\n",
       " <div class=\"jsx-3621759782 blog_list_row\"><a class=\"jsx-3621759782\" href=\"https://www.news18.com/news/india/haryana-wrestling-coach-abducts-minor-teen-adopts-islam-to-marry-her-6685465.html\"><figure class=\"jsx-3621759782\"><div class=\"jsx-3621759782 blog_img\"><div class=\"News\"></div><img alt=\"Haryana Wrestling Coach 'Kidnaps' Minor Teen, Adopts Islam to Marry Her\" class=\"jsx-3621759782 lazyload\" data-src=\"https://images.news18.com/ibnlive/uploads/2022/12/mumabi-police111-16707598553x2.jpg?impolicy=website&amp;width=219&amp;height=147\" src=\"https://images.news18.com/static_news18/pix/ibnhome/news18/images/default-218x145.jpg?impolicy=website&amp;width=219&amp;height=147\" title=\"Haryana Wrestling Coach 'Kidnaps' Minor Teen, Adopts Islam to Marry Her\"/></div><figcaption class=\"jsx-3621759782\"><div class=\"jsx-3621759782 blog_title\"><h4 class=\"jsx-3621759782\">Haryana Wrestling Coach 'Kidnaps' Minor Teen, Adopts Islam to Marry Her</h4></div></figcaption></figure></a></div>,\n",
       " <div class=\"jsx-3621759782 blog_list_row\"><a class=\"jsx-3621759782\" href=\"https://www.news18.com/videos/india/nine-people-dead-in-motihari-bihar-chimney-blast-bihar-news-today-english-news-news18-6686173.html\"><figure class=\"jsx-3621759782\"><div class=\"jsx-3621759782 blog_img\"><div class=\"catagoryIcon video\"></div><img alt=\"Nine People Dead In Motihari, Bihar Chimney Blast | Bihar News Today | English News | News18\" class=\"jsx-3621759782 lazyload\" data-src=\"https://images.news18.com/ibnlive/uploads/2022/12/1671872330_d3c0edf9-89f0-4ac2-b66a-8bd70b005a3d-16718723303x2.jpeg?impolicy=website&amp;width=219&amp;height=147\" src=\"https://images.news18.com/static_news18/pix/ibnhome/news18/images/default-218x145.jpg?impolicy=website&amp;width=219&amp;height=147\" title=\"Nine People Dead In Motihari, Bihar Chimney Blast | Bihar News Today | English News | News18\"/></div><figcaption class=\"jsx-3621759782\"><div class=\"jsx-3621759782 blog_title\"><h4 class=\"jsx-3621759782\">Nine People Dead In Motihari, Bihar Chimney Blast | Bihar News Today | English News | News18</h4></div></figcaption></figure></a></div>,\n",
       " <div class=\"jsx-3621759782 blog_list_row\"><a class=\"jsx-3621759782\" href=\"https://www.news18.com/videos/india/karnataka-news-students-hold-protest-in-hanur-karnataka-over-improper-bus-facilities-news18-6686149.html\"><figure class=\"jsx-3621759782\"><div class=\"jsx-3621759782 blog_img\"><div class=\"catagoryIcon video\"></div><img alt=\"Karnataka News | Students hold Protest In Hanur, Karnataka Over Improper Bus Facilities | News18\" class=\"jsx-3621759782 lazyload\" data-src=\"https://images.news18.com/ibnlive/uploads/2022/12/1671872136_0627819b-0b1e-42c5-b00b-7a2dda023c49-16718721363x2.jpeg?impolicy=website&amp;width=219&amp;height=147\" src=\"https://images.news18.com/static_news18/pix/ibnhome/news18/images/default-218x145.jpg?impolicy=website&amp;width=219&amp;height=147\" title=\"Karnataka News | Students hold Protest In Hanur, Karnataka Over Improper Bus Facilities | News18\"/></div><figcaption class=\"jsx-3621759782\"><div class=\"jsx-3621759782 blog_title\"><h4 class=\"jsx-3621759782\">Karnataka News | Students hold Protest In Hanur, Karnataka Over Improper Bus Facilities | News18</h4></div></figcaption></figure></a></div>,\n",
       " <div class=\"jsx-3621759782 blog_list_row\"><a class=\"jsx-3621759782\" href=\"https://www.news18.com/news/india/planned-new-year-abroad-you-may-want-to-cancel-tickets-to-these-countries-as-covid-peaks-6685621.html\"><figure class=\"jsx-3621759782\"><div class=\"jsx-3621759782 blog_img\"><div class=\"News\"></div><img alt=\"Planned New Year Abroad? You May Want to Cancel Tickets to These Countries as Covid Peaks\" class=\"jsx-3621759782 lazyload\" data-src=\"https://images.news18.com/ibnlive/uploads/2022/12/germany-16718705033x2.jpg?impolicy=website&amp;width=219&amp;height=147\" src=\"https://images.news18.com/static_news18/pix/ibnhome/news18/images/default-218x145.jpg?impolicy=website&amp;width=219&amp;height=147\" title=\"Planned New Year Abroad? You May Want to Cancel Tickets to These Countries as Covid Peaks\"/></div><figcaption class=\"jsx-3621759782\"><div class=\"jsx-3621759782 blog_title\"><h4 class=\"jsx-3621759782\">Planned New Year Abroad? You May Want to Cancel Tickets to These Countries as Covid Peaks</h4></div></figcaption></figure></a></div>,\n",
       " <div class=\"jsx-3621759782 blog_list_row\"><a class=\"jsx-3621759782\" href=\"https://www.news18.com/news/india/this-nalanda-police-station-has-more-chained-bikes-than-prisoners-6685645.html\"><figure class=\"jsx-3621759782\"><div class=\"jsx-3621759782 blog_img\"><div class=\"News\"></div><img alt=\"This Nalanda Police Station Has More Chained Bikes Than Prisoners\" class=\"jsx-3621759782 lazyload\" data-src=\"https://images.news18.com/ibnlive/uploads/2022/12/untitled-1-256-16718689763x2.jpg?impolicy=website&amp;width=219&amp;height=147\" src=\"https://images.news18.com/static_news18/pix/ibnhome/news18/images/default-218x145.jpg?impolicy=website&amp;width=219&amp;height=147\" title=\"This Nalanda Police Station Has More Chained Bikes Than Prisoners\"/></div><figcaption class=\"jsx-3621759782\"><div class=\"jsx-3621759782 blog_title\"><h4 class=\"jsx-3621759782\">This Nalanda Police Station Has More Chained Bikes Than Prisoners</h4></div></figcaption></figure></a></div>]"
      ]
     },
     "execution_count": 6,
     "metadata": {},
     "output_type": "execute_result"
    }
   ],
   "source": [
    "News = soup.find_all('div', {\"class\":\"jsx-3621759782 blog_list_row\"})\n",
    "News"
   ]
  },
  {
   "cell_type": "code",
   "execution_count": 7,
   "id": "e0b030ad",
   "metadata": {},
   "outputs": [
    {
     "data": {
      "text/plain": [
       "'https://www.news18.com/news/india/police-army-joint-operation-recover-huge-cache-of-arms-ammunition-in-jks-uri-6688855.html'"
      ]
     },
     "execution_count": 7,
     "metadata": {},
     "output_type": "execute_result"
    }
   ],
   "source": [
    "link = News[0].find('a')['href']\n",
    "link"
   ]
  },
  {
   "cell_type": "code",
   "execution_count": 9,
   "id": "939a2bdf",
   "metadata": {},
   "outputs": [
    {
     "data": {
      "text/plain": [
       "\"Police-Army Joint Operation Recover Huge Cache of Arms, Ammunition in J&K's Uri\""
      ]
     },
     "execution_count": 9,
     "metadata": {},
     "output_type": "execute_result"
    }
   ],
   "source": [
    "headline = News[0].h4.text\n",
    "headline"
   ]
  },
  {
   "cell_type": "code",
   "execution_count": 11,
   "id": "89e3f399",
   "metadata": {},
   "outputs": [
    {
     "data": {
      "text/plain": [
       "'https://images.news18.com/ibnlive/uploads/2022/12/reuters-fiji-rabuka-16716276093x2.jpg?impolicy=website&width=219&height=147'"
      ]
     },
     "execution_count": 11,
     "metadata": {},
     "output_type": "execute_result"
    }
   ],
   "source": [
    "img = News[1].find(\"div\",{\"class\":\"jsx-3621759782 blog_img\"}).find('img')['data-src']\n",
    "img"
   ]
  },
  {
   "cell_type": "code",
   "execution_count": 8,
   "id": "257eb829",
   "metadata": {},
   "outputs": [
    {
     "data": {
      "text/plain": [
       "'https://images.news18.com/ibnlive/uploads/2022/07/admin-ajax-e1657080846168.jpg?impolicy=website&width=219&height=147'"
      ]
     },
     "execution_count": 8,
     "metadata": {},
     "output_type": "execute_result"
    }
   ],
   "source": [
    "\"https://images.news18.com/ibnlive/uploads/2022/07/admin-ajax-e1657080846168.jpg?impolicy=website&width=219&height=147\""
   ]
  },
  {
   "cell_type": "markdown",
   "id": "338deab6",
   "metadata": {},
   "source": [
    "### for Sports"
   ]
  },
  {
   "cell_type": "code",
   "execution_count": 35,
   "id": "4395a76e",
   "metadata": {},
   "outputs": [
    {
     "name": "stderr",
     "output_type": "stream",
     "text": [
      "C:\\Users\\vishw\\AppData\\Local\\Programs\\Python\\Python39\\lib\\site-packages\\urllib3\\connectionpool.py:1013: InsecureRequestWarning: Unverified HTTPS request is being made to host 'zeenews.india.com'. Adding certificate verification is strongly advised. See: https://urllib3.readthedocs.io/en/1.26.x/advanced-usage.html#ssl-warnings\n",
      "  warnings.warn(\n"
     ]
    }
   ],
   "source": [
    "session = requests.Session()\n",
    "session.headers = {\"User-Agent\": \"Googlebot/2.1 (+http://www.google.com/bot.html)\"}\n",
    "url = \"https://zeenews.india.com/cricket/t20-world-cup\"\n",
    "content = session.get(url, verify=False).content\n",
    "soup = Bsoup(content, \"html.parser\")"
   ]
  },
  {
   "cell_type": "code",
   "execution_count": 38,
   "id": "dfc9b13b",
   "metadata": {},
   "outputs": [],
   "source": [
    "News = soup.find_all('div', {\"class\":\"news_item\"})"
   ]
  },
  {
   "cell_type": "code",
   "execution_count": 47,
   "id": "ea52bc74",
   "metadata": {},
   "outputs": [],
   "source": [
    "img = News[0].find('div',{\"class\":\"news_right\"}).find('img')['src']"
   ]
  },
  {
   "cell_type": "code",
   "execution_count": 67,
   "id": "7a2053a4",
   "metadata": {},
   "outputs": [],
   "source": [
    "link = News[0].find('div',{\"class\":\"news_left\"}).find('div',{\"class\":\"news_title\"}).find('a')['href']"
   ]
  },
  {
   "cell_type": "code",
   "execution_count": 69,
   "id": "2498c218",
   "metadata": {},
   "outputs": [],
   "source": [
    "link = 'https://zeenews.india.com'+link"
   ]
  },
  {
   "cell_type": "code",
   "execution_count": 75,
   "id": "99d8cd3c",
   "metadata": {},
   "outputs": [],
   "source": [
    "headline = News[0].find('div',{\"class\":\"news_left\"}).find('div',{\"class\":\"news_title\"}).text"
   ]
  },
  {
   "cell_type": "code",
   "execution_count": 76,
   "id": "a2f42104",
   "metadata": {},
   "outputs": [
    {
     "data": {
      "text/plain": [
       "\"Taal Thok Ke: Team India's X-ray on defeat in T20 World Cup \""
      ]
     },
     "execution_count": 76,
     "metadata": {},
     "output_type": "execute_result"
    }
   ],
   "source": [
    "headline"
   ]
  },
  {
   "cell_type": "markdown",
   "id": "92e6fd14",
   "metadata": {},
   "source": [
    "### for business"
   ]
  },
  {
   "cell_type": "code",
   "execution_count": 2,
   "id": "74bc688f",
   "metadata": {},
   "outputs": [
    {
     "name": "stderr",
     "output_type": "stream",
     "text": [
      "C:\\Users\\vishw\\AppData\\Local\\Programs\\Python\\Python39\\lib\\site-packages\\urllib3\\connectionpool.py:1013: InsecureRequestWarning: Unverified HTTPS request is being made to host 'zeenews.india.com'. Adding certificate verification is strongly advised. See: https://urllib3.readthedocs.io/en/1.26.x/advanced-usage.html#ssl-warnings\n",
      "  warnings.warn(\n"
     ]
    }
   ],
   "source": [
    "session = requests.Session()\n",
    "session.headers = {\"User-Agent\": \"Googlebot/2.1 (+http://www.google.com/bot.html)\"}\n",
    "url = \"https://zeenews.india.com/business\"\n",
    "content = session.get(url, verify=False).content\n",
    "soup = Bsoup(content, \"html.parser\")"
   ]
  },
  {
   "cell_type": "code",
   "execution_count": 24,
   "id": "b36e4c0e",
   "metadata": {},
   "outputs": [],
   "source": [
    "news = soup.find('div',{\"class\":\"more-news-section\"})\n",
    "News = news.find_all('div', {\"class\":\"row no-gutters morenews-block\"})"
   ]
  },
  {
   "cell_type": "code",
   "execution_count": 25,
   "id": "900f4ab1",
   "metadata": {},
   "outputs": [],
   "source": [
    "link = News[0].find('div',{\"class\":\"col-lg-3 col-12 pl-0\"}).find('a')['href']"
   ]
  },
  {
   "cell_type": "code",
   "execution_count": 26,
   "id": "da782aee",
   "metadata": {},
   "outputs": [],
   "source": [
    "imge = News[0].find('div',{\"class\":\"col-lg-3 col-12 pl-0\"}).find('img')['src']"
   ]
  },
  {
   "cell_type": "code",
   "execution_count": 27,
   "id": "cda0715c",
   "metadata": {},
   "outputs": [],
   "source": [
    "head = News[0].find('div',{\"class\":\"col-md-9 pl-4\"}).find('div',{\"class\":\"news_description desc-title morenews-title\"}).text"
   ]
  },
  {
   "cell_type": "code",
   "execution_count": null,
   "id": "714be92e",
   "metadata": {},
   "outputs": [],
   "source": []
  },
  {
   "cell_type": "code",
   "execution_count": null,
   "id": "8de213f3",
   "metadata": {},
   "outputs": [],
   "source": []
  },
  {
   "cell_type": "code",
   "execution_count": 28,
   "id": "2c34c7e7",
   "metadata": {},
   "outputs": [],
   "source": [
    "headline = []\n",
    "for i in News:\n",
    "    link = i.find('div',{\"class\":\"col-lg-3 col-12 pl-0\"}).find('a')['href']\n",
    "    imge = i.find('div',{\"class\":\"col-lg-3 col-12 pl-0\"}).find('img')['src']\n",
    "    head = i.find('div',{\"class\":\"col-md-9 pl-4\"}).find('div',{\"class\":\"news_description desc-title morenews-title\"}).text\n",
    "    headline.append([link,imge,head])\n",
    "    \n",
    "    "
   ]
  },
  {
   "cell_type": "code",
   "execution_count": 29,
   "id": "bec0042d",
   "metadata": {},
   "outputs": [
    {
     "data": {
      "text/plain": [
       "12"
      ]
     },
     "execution_count": 29,
     "metadata": {},
     "output_type": "execute_result"
    }
   ],
   "source": [
    "len(headline)"
   ]
  },
  {
   "cell_type": "markdown",
   "id": "1a50959a",
   "metadata": {},
   "source": [
    "### for world news"
   ]
  },
  {
   "cell_type": "code",
   "execution_count": 12,
   "id": "611f0f0b",
   "metadata": {},
   "outputs": [
    {
     "name": "stderr",
     "output_type": "stream",
     "text": [
      "C:\\Users\\vishw\\AppData\\Local\\Programs\\Python\\Python39\\lib\\site-packages\\urllib3\\connectionpool.py:1013: InsecureRequestWarning: Unverified HTTPS request is being made to host 'www.news18.com'. Adding certificate verification is strongly advised. See: https://urllib3.readthedocs.io/en/1.26.x/advanced-usage.html#ssl-warnings\n",
      "  warnings.warn(\n"
     ]
    }
   ],
   "source": [
    "session = requests.Session()\n",
    "session.headers = {\"User-Agent\": \"Googlebot/2.1 (+http://www.google.com/bot.html)\"}\n",
    "url = \"https://www.news18.com/world/\"\n",
    "content = session.get(url, verify=False).content\n",
    "soup = Bsoup(content, \"html.parser\")"
   ]
  },
  {
   "cell_type": "code",
   "execution_count": 13,
   "id": "cc7db650",
   "metadata": {},
   "outputs": [],
   "source": [
    "News = soup.find_all('div', {\"class\":\"jsx-3621759782 blog_list_row\"})"
   ]
  },
  {
   "cell_type": "code",
   "execution_count": 14,
   "id": "4b778604",
   "metadata": {},
   "outputs": [
    {
     "data": {
      "text/plain": [
       "'https://www.news18.com/videos/world/smartphones-to-track-nervous-wagner-recruits-on-the-ukraine-battlefield-drones-to-execute-deserters-6688933.html'"
      ]
     },
     "execution_count": 14,
     "metadata": {},
     "output_type": "execute_result"
    }
   ],
   "source": [
    "link = News[0].find('a')['href']\n",
    "link"
   ]
  },
  {
   "cell_type": "code",
   "execution_count": 15,
   "id": "b6eb6f23",
   "metadata": {},
   "outputs": [
    {
     "data": {
      "text/plain": [
       "'Smartphones To Track Nervous Wagner Recruits On The Ukraine Battlefield, Drones To Execute Deserters'"
      ]
     },
     "execution_count": 15,
     "metadata": {},
     "output_type": "execute_result"
    }
   ],
   "source": [
    "headline = News[0].h4.text\n",
    "headline"
   ]
  },
  {
   "cell_type": "code",
   "execution_count": 17,
   "id": "b12bc7c5",
   "metadata": {},
   "outputs": [
    {
     "data": {
      "text/plain": [
       "'https://images.news18.com/ibnlive/uploads/2022/12/1671895344_f895cb70-91fc-49b0-814a-00a3ecb5bfa5.jpeg?impolicy=website&width=219&height=147'"
      ]
     },
     "execution_count": 17,
     "metadata": {},
     "output_type": "execute_result"
    }
   ],
   "source": [
    "img = News[1].find(\"div\",{\"class\":\"jsx-3621759782 blog_img\"}).find('img')['data-src']\n",
    "img"
   ]
  },
  {
   "cell_type": "markdown",
   "id": "940efc59",
   "metadata": {},
   "source": [
    "### for politics news"
   ]
  },
  {
   "cell_type": "code",
   "execution_count": 36,
   "id": "8ffc69e5",
   "metadata": {},
   "outputs": [
    {
     "name": "stderr",
     "output_type": "stream",
     "text": [
      "C:\\Users\\vishw\\AppData\\Local\\Programs\\Python\\Python39\\lib\\site-packages\\urllib3\\connectionpool.py:1013: InsecureRequestWarning: Unverified HTTPS request is being made to host 'www.news18.com'. Adding certificate verification is strongly advised. See: https://urllib3.readthedocs.io/en/1.26.x/advanced-usage.html#ssl-warnings\n",
      "  warnings.warn(\n"
     ]
    }
   ],
   "source": [
    "session = requests.Session()\n",
    "session.headers = {\"User-Agent\": \"Googlebot/2.1 (+http://www.google.com/bot.html)\"}\n",
    "url = \"https://www.news18.com/politics/\"\n",
    "content = session.get(url, verify=False).content\n",
    "soup = Bsoup(content, \"html.parser\")"
   ]
  },
  {
   "cell_type": "code",
   "execution_count": 37,
   "id": "0bf15c17",
   "metadata": {},
   "outputs": [],
   "source": [
    "News = soup.find_all('div', {\"class\":\"jsx-3328680553 blog_list_row\"})"
   ]
  },
  {
   "cell_type": "code",
   "execution_count": 38,
   "id": "da1ef0bf",
   "metadata": {},
   "outputs": [
    {
     "data": {
      "text/plain": [
       "'https://www.news18.com/videos/politics/mangaluru-blast-probe-who-allowed-terror-nexus-to-thrive-newsepicentre-english-news-6447151.html'"
      ]
     },
     "execution_count": 38,
     "metadata": {},
     "output_type": "execute_result"
    }
   ],
   "source": [
    "link = News[0].find('a')['href']\n",
    "link"
   ]
  },
  {
   "cell_type": "code",
   "execution_count": 39,
   "id": "dbc33dfd",
   "metadata": {},
   "outputs": [
    {
     "data": {
      "text/plain": [
       "'Mangaluru Blast Probe | Who Allowed Terror Nexus To Thrive? | NewsEpicentre | English News'"
      ]
     },
     "execution_count": 39,
     "metadata": {},
     "output_type": "execute_result"
    }
   ],
   "source": [
    "headline = News[0].h4.text\n",
    "headline"
   ]
  },
  {
   "cell_type": "code",
   "execution_count": 40,
   "id": "cc5b5fc5",
   "metadata": {},
   "outputs": [
    {
     "data": {
      "text/plain": [
       "'https://images.news18.com/ibnlive/uploads/2022/10/voting-16657423903x2.jpeg?impolicy=website&width=219&height=147'"
      ]
     },
     "execution_count": 40,
     "metadata": {},
     "output_type": "execute_result"
    }
   ],
   "source": [
    "img = News[1].find(\"div\",{\"class\":\"jsx-3328680553 blog_img\"}).find('img')['data-src']\n",
    "img"
   ]
  },
  {
   "cell_type": "code",
   "execution_count": null,
   "id": "16f5e3f2",
   "metadata": {},
   "outputs": [],
   "source": []
  }
 ],
 "metadata": {
  "kernelspec": {
   "display_name": "Python 3",
   "language": "python",
   "name": "python3"
  },
  "language_info": {
   "codemirror_mode": {
    "name": "ipython",
    "version": 3
   },
   "file_extension": ".py",
   "mimetype": "text/x-python",
   "name": "python",
   "nbconvert_exporter": "python",
   "pygments_lexer": "ipython3",
   "version": "3.9.8"
  },
  "vscode": {
   "interpreter": {
    "hash": "caffd40a20b27fe13a880a73ff982e7e45e578e42716aba593720403104577c5"
   }
  }
 },
 "nbformat": 4,
 "nbformat_minor": 5
}
