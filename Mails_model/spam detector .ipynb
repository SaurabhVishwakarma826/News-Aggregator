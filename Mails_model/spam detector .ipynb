{
 "cells": [
  {
   "cell_type": "markdown",
   "id": "43553cfb",
   "metadata": {},
   "source": [
    "### Import necessary libraries:"
   ]
  },
  {
   "cell_type": "code",
   "execution_count": 1,
   "id": "de390edf",
   "metadata": {},
   "outputs": [],
   "source": [
    "import pandas as pd\n",
    "import numpy as np\n",
    "import string\n",
    "from nltk.corpus import stopwords\n",
    "from sklearn.feature_extraction.text import CountVectorizer\n",
    "from sklearn.model_selection import train_test_split\n",
    "from sklearn.naive_bayes import MultinomialNB\n",
    "from sklearn.metrics import accuracy_score\n",
    "from sklearn.pipeline import Pipeline\n",
    "import joblib"
   ]
  },
  {
   "cell_type": "markdown",
   "id": "029c39ff",
   "metadata": {},
   "source": [
    "### Load your dataset:"
   ]
  },
  {
   "cell_type": "code",
   "execution_count": 4,
   "id": "8d3676f8",
   "metadata": {},
   "outputs": [
    {
     "data": {
      "text/html": [
       "<div>\n",
       "<style scoped>\n",
       "    .dataframe tbody tr th:only-of-type {\n",
       "        vertical-align: middle;\n",
       "    }\n",
       "\n",
       "    .dataframe tbody tr th {\n",
       "        vertical-align: top;\n",
       "    }\n",
       "\n",
       "    .dataframe thead th {\n",
       "        text-align: right;\n",
       "    }\n",
       "</style>\n",
       "<table border=\"1\" class=\"dataframe\">\n",
       "  <thead>\n",
       "    <tr style=\"text-align: right;\">\n",
       "      <th></th>\n",
       "      <th>text</th>\n",
       "      <th>spam</th>\n",
       "    </tr>\n",
       "  </thead>\n",
       "  <tbody>\n",
       "    <tr>\n",
       "      <th>0</th>\n",
       "      <td>Subject: naturally irresistible your corporate...</td>\n",
       "      <td>1</td>\n",
       "    </tr>\n",
       "    <tr>\n",
       "      <th>1</th>\n",
       "      <td>Subject: the stock trading gunslinger  fanny i...</td>\n",
       "      <td>1</td>\n",
       "    </tr>\n",
       "    <tr>\n",
       "      <th>2</th>\n",
       "      <td>Subject: unbelievable new homes made easy  im ...</td>\n",
       "      <td>1</td>\n",
       "    </tr>\n",
       "    <tr>\n",
       "      <th>3</th>\n",
       "      <td>Subject: 4 color printing special  request add...</td>\n",
       "      <td>1</td>\n",
       "    </tr>\n",
       "    <tr>\n",
       "      <th>4</th>\n",
       "      <td>Subject: do not have money , get software cds ...</td>\n",
       "      <td>1</td>\n",
       "    </tr>\n",
       "    <tr>\n",
       "      <th>...</th>\n",
       "      <td>...</td>\n",
       "      <td>...</td>\n",
       "    </tr>\n",
       "    <tr>\n",
       "      <th>5723</th>\n",
       "      <td>Subject: re : research and development charges...</td>\n",
       "      <td>0</td>\n",
       "    </tr>\n",
       "    <tr>\n",
       "      <th>5724</th>\n",
       "      <td>Subject: re : receipts from visit  jim ,  than...</td>\n",
       "      <td>0</td>\n",
       "    </tr>\n",
       "    <tr>\n",
       "      <th>5725</th>\n",
       "      <td>Subject: re : enron case study update  wow ! a...</td>\n",
       "      <td>0</td>\n",
       "    </tr>\n",
       "    <tr>\n",
       "      <th>5726</th>\n",
       "      <td>Subject: re : interest  david ,  please , call...</td>\n",
       "      <td>0</td>\n",
       "    </tr>\n",
       "    <tr>\n",
       "      <th>5727</th>\n",
       "      <td>Subject: news : aurora 5 . 2 update  aurora ve...</td>\n",
       "      <td>0</td>\n",
       "    </tr>\n",
       "  </tbody>\n",
       "</table>\n",
       "<p>5728 rows × 2 columns</p>\n",
       "</div>"
      ],
      "text/plain": [
       "                                                   text  spam\n",
       "0     Subject: naturally irresistible your corporate...     1\n",
       "1     Subject: the stock trading gunslinger  fanny i...     1\n",
       "2     Subject: unbelievable new homes made easy  im ...     1\n",
       "3     Subject: 4 color printing special  request add...     1\n",
       "4     Subject: do not have money , get software cds ...     1\n",
       "...                                                 ...   ...\n",
       "5723  Subject: re : research and development charges...     0\n",
       "5724  Subject: re : receipts from visit  jim ,  than...     0\n",
       "5725  Subject: re : enron case study update  wow ! a...     0\n",
       "5726  Subject: re : interest  david ,  please , call...     0\n",
       "5727  Subject: news : aurora 5 . 2 update  aurora ve...     0\n",
       "\n",
       "[5728 rows x 2 columns]"
      ]
     },
     "execution_count": 4,
     "metadata": {},
     "output_type": "execute_result"
    }
   ],
   "source": [
    "df = pd.read_csv('emails.csv')\n",
    "df"
   ]
  },
  {
   "cell_type": "markdown",
   "id": "a20c171f",
   "metadata": {},
   "source": [
    "### Define a preprocessing function to remove punctuation and stopwords:"
   ]
  },
  {
   "cell_type": "code",
   "execution_count": 3,
   "id": "df42834b",
   "metadata": {},
   "outputs": [],
   "source": [
    "def process(text):\n",
    "    nopunc = [char for char in text if char not in string.punctuation]\n",
    "    nopunc = ''.join(nopunc)\n",
    "    clean = [word for word in nopunc.split() if word.lower() not in stopwords.words('english')]\n",
    "    return clean"
   ]
  },
  {
   "cell_type": "code",
   "execution_count": null,
   "id": "b3d5b8f4",
   "metadata": {},
   "outputs": [],
   "source": []
  },
  {
   "cell_type": "code",
   "execution_count": null,
   "id": "fd295d61",
   "metadata": {},
   "outputs": [],
   "source": []
  },
  {
   "cell_type": "markdown",
   "id": "911d7004",
   "metadata": {},
   "source": [
    "### Split the data into training and testing sets:"
   ]
  },
  {
   "cell_type": "code",
   "execution_count": 6,
   "id": "f36ce644",
   "metadata": {},
   "outputs": [],
   "source": [
    "x_train, x_test, y_train, y_test = train_test_split(df['text'], df['spam'], test_size=0.2, random_state=42)"
   ]
  },
  {
   "cell_type": "code",
   "execution_count": 7,
   "id": "8933ab52",
   "metadata": {},
   "outputs": [
    {
     "data": {
      "text/plain": [
       "4860    Subject: re : request for payroll reclassifica...\n",
       "1520    Subject: re : pending approval for ibuyit requ...\n",
       "2083    Subject: congratulations !  hi vince :  i just...\n",
       "527     Subject: secretly record all internet activity...\n",
       "3113    Subject: interviews scheduled for monday , nov...\n",
       "                              ...                        \n",
       "3772    Subject: john sherriff ' s copper position  te...\n",
       "5191    Subject: the national forum on corporate finan...\n",
       "5226    Subject: re : my first draft  quentin ,  i for...\n",
       "5390    Subject: why johan dahl and the mri energy sta...\n",
       "860     Subject: perfect visual solution for your busi...\n",
       "Name: text, Length: 4582, dtype: object"
      ]
     },
     "execution_count": 7,
     "metadata": {},
     "output_type": "execute_result"
    }
   ],
   "source": [
    "x_train"
   ]
  },
  {
   "cell_type": "markdown",
   "id": "230a4c6c",
   "metadata": {},
   "source": [
    "### Define a Pipeline object that combines CountVectorizer and MultinomialNB:"
   ]
  },
  {
   "cell_type": "code",
   "execution_count": 8,
   "id": "2337014e",
   "metadata": {},
   "outputs": [],
   "source": [
    "pipeline = Pipeline([\n",
    "    ('vectorizer', CountVectorizer(analyzer=process)),\n",
    "    ('classifier', MultinomialNB())\n",
    "])"
   ]
  },
  {
   "cell_type": "code",
   "execution_count": null,
   "id": "72575d0a",
   "metadata": {},
   "outputs": [],
   "source": []
  },
  {
   "cell_type": "markdown",
   "id": "b66592e3",
   "metadata": {},
   "source": [
    "### Train the model using the training data:"
   ]
  },
  {
   "cell_type": "code",
   "execution_count": 9,
   "id": "37d114a1",
   "metadata": {},
   "outputs": [
    {
     "data": {
      "text/plain": [
       "Pipeline(steps=[('vectorizer',\n",
       "                 CountVectorizer(analyzer=<function process at 0x0000026F6F546F70>)),\n",
       "                ('classifier', MultinomialNB())])"
      ]
     },
     "execution_count": 9,
     "metadata": {},
     "output_type": "execute_result"
    }
   ],
   "source": [
    "pipeline.fit(x_train, y_train)"
   ]
  },
  {
   "cell_type": "markdown",
   "id": "f9993d6d",
   "metadata": {},
   "source": [
    "### Test the model using the testing data:"
   ]
  },
  {
   "cell_type": "code",
   "execution_count": 10,
   "id": "4be9105a",
   "metadata": {},
   "outputs": [
    {
     "name": "stdout",
     "output_type": "stream",
     "text": [
      "Accuracy: 0.9886561954624782\n"
     ]
    }
   ],
   "source": [
    "y_pred = pipeline.predict(x_test)\n",
    "accuracy = accuracy_score(y_test, y_pred)\n",
    "print('Accuracy:', accuracy)\n"
   ]
  },
  {
   "cell_type": "markdown",
   "id": "2bfb5e11",
   "metadata": {},
   "source": [
    "### Use the confusion_matrix() function to calculate the confusion matrix for the predictions:"
   ]
  },
  {
   "cell_type": "code",
   "execution_count": 11,
   "id": "16fe772e",
   "metadata": {},
   "outputs": [
    {
     "name": "stdout",
     "output_type": "stream",
     "text": [
      "Confusion matrix:\n",
      "[[850   6]\n",
      " [  7 283]]\n"
     ]
    }
   ],
   "source": [
    "from sklearn.metrics import confusion_matrix, classification_report\n",
    "cm = confusion_matrix(y_test, y_pred)\n",
    "print('Confusion matrix:')\n",
    "print(cm)"
   ]
  },
  {
   "cell_type": "markdown",
   "id": "8cbb872b",
   "metadata": {},
   "source": [
    "### Save the trained model to a file:"
   ]
  },
  {
   "cell_type": "code",
   "execution_count": 12,
   "id": "fe949a05",
   "metadata": {},
   "outputs": [
    {
     "data": {
      "text/plain": [
       "['spam_classifier.joblib']"
      ]
     },
     "execution_count": 12,
     "metadata": {},
     "output_type": "execute_result"
    }
   ],
   "source": [
    "joblib.dump(pipeline, 'spam_classifier.joblib')"
   ]
  },
  {
   "cell_type": "markdown",
   "id": "22d938e0",
   "metadata": {},
   "source": [
    "### Load the saved model from the file:"
   ]
  },
  {
   "cell_type": "code",
   "execution_count": 4,
   "id": "b655f24e",
   "metadata": {},
   "outputs": [],
   "source": [
    "model = joblib.load('spam_classifier.joblib')"
   ]
  },
  {
   "cell_type": "code",
   "execution_count": 5,
   "id": "9e35bd88",
   "metadata": {},
   "outputs": [
    {
     "name": "stdout",
     "output_type": "stream",
     "text": [
      "[0 1 0]\n"
     ]
    }
   ],
   "source": [
    "example_messages = [    'Get a free laptop today!',    'Hi John, can you send me the report by Friday?',    'Congratulations! You have won a free trip to Hawaii!']\n",
    "predictions = model.predict(example_messages)\n",
    "print(predictions)\n"
   ]
  },
  {
   "cell_type": "code",
   "execution_count": 6,
   "id": "8873d27f",
   "metadata": {},
   "outputs": [],
   "source": [
    "m = ['Hi John, can you send me the report by Friday?']\n",
    "# m = \"Dear consumer your electricity will disconnect at 9:30 tonight Because your previous bill was not update. Immediately contact electricity Officer 7439025664\""
   ]
  },
  {
   "cell_type": "code",
   "execution_count": 7,
   "id": "94ce331b",
   "metadata": {},
   "outputs": [
    {
     "name": "stdout",
     "output_type": "stream",
     "text": [
      "[1]\n"
     ]
    }
   ],
   "source": [
    "predictions = model.predict(m)\n",
    "print(predictions)"
   ]
  },
  {
   "cell_type": "markdown",
   "id": "458ed72c",
   "metadata": {},
   "source": [
    "🙂🙂🙂🙂🙂🙂🙂"
   ]
  },
  {
   "cell_type": "code",
   "execution_count": 10,
   "id": "b0b610e3",
   "metadata": {},
   "outputs": [
    {
     "name": "stdout",
     "output_type": "stream",
     "text": [
      "Test accuracy: 0.99\n"
     ]
    }
   ],
   "source": [
    "import pandas as pd\n",
    "import string\n",
    "import nltk\n",
    "from nltk.corpus import stopwords\n",
    "from sklearn.feature_extraction.text import CountVectorizer\n",
    "from sklearn.model_selection import train_test_split\n",
    "from sklearn.naive_bayes import MultinomialNB\n",
    "import pickle\n",
    "\n",
    "# Load the dataset\n",
    "df = pd.read_csv('emails.csv')\n",
    "\n",
    "# Preprocess the text data\n",
    "def preprocess(text):\n",
    "    nopunc = [char for char in text if char not in string.punctuation]\n",
    "    nopunc = ''.join(nopunc)\n",
    "    clean = [word for word in nopunc.split() if word.lower() not in stopwords.words('english')]\n",
    "    return ' '.join(clean)\n",
    "\n",
    "df['text'] = df['text'].apply(preprocess)\n",
    "\n",
    "# Split the dataset into training and testing sets\n",
    "X_train, X_test, y_train, y_test = train_test_split(df['text'], df['spam'], test_size=0.2, random_state=42)\n",
    "\n",
    "# Create a vectorizer to convert text data into numerical features\n",
    "vectorizer = CountVectorizer()\n",
    "X_train_vectorized = vectorizer.fit_transform(X_train)\n",
    "\n",
    "# Train a Naive Bayes classifier on the vectorized data\n",
    "model = MultinomialNB()\n",
    "model.fit(X_train_vectorized, y_train)\n",
    "\n",
    "# Evaluate the model on the testing set\n",
    "X_test_vectorized = vectorizer.transform(X_test)\n",
    "accuracy = model.score(X_test_vectorized, y_test)\n",
    "print(f'Test accuracy: {accuracy:.2f}')\n",
    "\n",
    "# Save the vectorizer and model to disk using pickle\n",
    "with open('vectorizer.pkl', 'wb') as f:\n",
    "    pickle.dump(vectorizer, f)\n",
    "with open('model.pkl', 'wb') as f:\n",
    "    pickle.dump(model, f)"
   ]
  },
  {
   "cell_type": "code",
   "execution_count": 20,
   "id": "06172d0c",
   "metadata": {},
   "outputs": [
    {
     "data": {
      "text/plain": [
       "array([0, 0, 0, ..., 1, 0, 0], dtype=int64)"
      ]
     },
     "execution_count": 20,
     "metadata": {},
     "output_type": "execute_result"
    }
   ],
   "source": [
    "model.predict(X_test_vectorized)"
   ]
  },
  {
   "cell_type": "code",
   "execution_count": null,
   "id": "227a22fc",
   "metadata": {},
   "outputs": [],
   "source": []
  },
  {
   "cell_type": "code",
   "execution_count": 91,
   "id": "5722d289",
   "metadata": {},
   "outputs": [
    {
     "data": {
      "text/plain": [
       "['Congratulations', 'free', 'trip', 'Hawaii']"
      ]
     },
     "execution_count": 91,
     "metadata": {},
     "output_type": "execute_result"
    }
   ],
   "source": [
    "process(\"Congratulations! You have won a free trip to Hawaii!\")"
   ]
  },
  {
   "cell_type": "code",
   "execution_count": 19,
   "id": "2d6cfd11",
   "metadata": {},
   "outputs": [
    {
     "name": "stdout",
     "output_type": "stream",
     "text": [
      "Prediction: 0\n"
     ]
    }
   ],
   "source": [
    "import pickle\n",
    "with open('vectorizer.pkl', 'rb') as f:\n",
    "    vectorizer = pickle.load(f)\n",
    "with open('model.pkl', 'rb') as f:\n",
    "    model = pickle.load(f)\n",
    "# Load the saved vectorizer and model from disk\n",
    "new_email = 'Congratulations! You have won a free trip to Hawaii!'\n",
    "new_email_processed = preprocess(new_email)\n",
    "\n",
    "# Convert the processed text data into a feature vector using the saved vectorizer\n",
    "new_email_vectorized = vectorizer.transform([new_email_processed])\n",
    "\n",
    "# Make a prediction using the saved model\n",
    "prediction = model.predict(new_email_vectorized)\n",
    "\n",
    "# Print the predicted label (0 for ham, 1 for spam)\n",
    "print(f'Prediction: {prediction[0]}')"
   ]
  },
  {
   "cell_type": "code",
   "execution_count": null,
   "id": "becf0270",
   "metadata": {},
   "outputs": [],
   "source": []
  }
 ],
 "metadata": {
  "kernelspec": {
   "display_name": "Python 3 (ipykernel)",
   "language": "python",
   "name": "python3"
  },
  "language_info": {
   "codemirror_mode": {
    "name": "ipython",
    "version": 3
   },
   "file_extension": ".py",
   "mimetype": "text/x-python",
   "name": "python",
   "nbconvert_exporter": "python",
   "pygments_lexer": "ipython3",
   "version": "3.9.8"
  }
 },
 "nbformat": 4,
 "nbformat_minor": 5
}
